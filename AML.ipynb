{
  "nbformat": 4,
  "nbformat_minor": 0,
  "metadata": {
    "colab": {
      "name": "AML",
      "provenance": [],
      "collapsed_sections": [],
      "include_colab_link": true
    },
    "kernelspec": {
      "display_name": "Python 3",
      "language": "python",
      "name": "python3"
    },
    "language_info": {
      "codemirror_mode": {
        "name": "ipython",
        "version": 3
      },
      "file_extension": ".py",
      "mimetype": "text/x-python",
      "name": "python",
      "nbconvert_exporter": "python",
      "pygments_lexer": "ipython3",
      "version": "3.8.6"
    }
  },
  "cells": [
    {
      "cell_type": "markdown",
      "metadata": {
        "id": "view-in-github",
        "colab_type": "text"
      },
      "source": [
        "<a href=\"https://colab.research.google.com/github/matteobolner/AML_Basic/blob/master/AML.ipynb\" target=\"_parent\"><img src=\"https://colab.research.google.com/assets/colab-badge.svg\" alt=\"Open In Colab\"/></a>"
      ]
    },
    {
      "cell_type": "markdown",
      "metadata": {
        "id": "RCSI4c7WzNAx"
      },
      "source": [
        "**LIBRARIES**\n",
        "\n",
        "---\n",
        "\n",
        "\n",
        "\n",
        "\n"
      ]
    },
    {
      "cell_type": "code",
      "metadata": {
        "id": "q74nVTBCXzz5"
      },
      "source": [
        "import scipy as sp\n",
        "import math\n",
        "import matplotlib.pyplot as plt\n",
        "import numpy as np\n",
        "import pandas as pd\n",
        "import seaborn as sns\n",
        "import time\n",
        "import datetime as dt\n",
        "import joblib\n",
        "from numpy import set_printoptions\n",
        "from scipy.ndimage import interpolation\n",
        "from sklearn.preprocessing import MinMaxScaler\n",
        "from sklearn.model_selection import train_test_split\n",
        "from sklearn.model_selection import GridSearchCV\n",
        "from sklearn.metrics import classification_report\n",
        "from sklearn import datasets, svm, metrics\n",
        "from sklearn.datasets import fetch_openml\n",
        "from sklearn.svm import SVC"
      ],
      "execution_count": null,
      "outputs": []
    },
    {
      "cell_type": "markdown",
      "metadata": {
        "id": "gDAIh75FzLon"
      },
      "source": [
        "  \n",
        "\n",
        "**LOADING THE DATASET**\n",
        "\n",
        "---\n",
        "\n",
        "\n"
      ]
    },
    {
      "cell_type": "code",
      "metadata": {
        "id": "0z89hzuJc4g1"
      },
      "source": [
        "X, y = fetch_openml('mnist_784', version=1, return_X_y=True)"
      ],
      "execution_count": null,
      "outputs": []
    },
    {
      "cell_type": "code",
      "metadata": {
        "id": "8hSmezWWMPiN",
        "outputId": "c54bb0b5-6ef1-480f-c608-df1bee42a2ca",
        "colab": {
          "base_uri": "https://localhost:8080/",
          "height": 286
        }
      },
      "source": [
        "plt.imshow(X[0].reshape(28,28))"
      ],
      "execution_count": null,
      "outputs": [
        {
          "output_type": "execute_result",
          "data": {
            "text/plain": [
              "<matplotlib.image.AxesImage at 0x7f5a70124820>"
            ]
          },
          "metadata": {
            "tags": []
          },
          "execution_count": 3
        },
        {
          "output_type": "display_data",
          "data": {
            "image/png": "[encoded data removed]",
            "text/plain": [
              "<Figure size 432x288 with 1 Axes>"
            ]
          },
          "metadata": {
            "tags": [],
            "needs_background": "light"
          }
        }
      ]
    },
    {
      "cell_type": "markdown",
      "metadata": {
        "id": "Cz-eqn0Ehpow"
      },
      "source": [
        "**DATA PREPROCESSING**\n",
        "\n",
        "---\n",
        "\n",
        "According to most literature available, handwriting classification models based on Support Vector Machines (SVM) greatly benefit from deskewing, that is the straightening of the numbers in the images.    \n",
        "Therefore, all the images in the dataset were processed with deskewing, using the method available at https://fsix.github.io/mnist/Deskewing.html\n",
        "\n",
        "\n",
        "\n",
        "\n",
        "\n",
        "\n"
      ]
    },
    {
      "cell_type": "code",
      "metadata": {
        "id": "71g6xHhufb_w"
      },
      "source": [
        "def moments(image):\n",
        "    c0,c1 = np.mgrid[:image.shape[0],:image.shape[1]] # A trick in numPy to create a mesh grid\n",
        "    totalImage = np.sum(image) #sum of pixels\n",
        "    m0 = np.sum(c0*image)/totalImage #mu_x\n",
        "    m1 = np.sum(c1*image)/totalImage #mu_y\n",
        "    m00 = np.sum((c0-m0)**2*image)/totalImage #var(x)\n",
        "    m11 = np.sum((c1-m1)**2*image)/totalImage #var(y)\n",
        "    m01 = np.sum((c0-m0)*(c1-m1)*image)/totalImage #covariance(x,y)\n",
        "    mu_vector = np.array([m0,m1]) # Notice that these are \\mu_x, \\mu_y respectively\n",
        "    covariance_matrix = np.array([[m00,m01],[m01,m11]]) # Do you see a similarity between the covariance matrix\n",
        "    return mu_vector, covariance_matrix\n",
        "\n",
        "def deskew(image):\n",
        "    c,v = moments(image)\n",
        "    alpha = v[0,1]/v[0,0]\n",
        "    affine = np.array([[1,0],[alpha,1]])\n",
        "    ocenter = np.array(image.shape)/2.0\n",
        "    offset = c-np.dot(affine,ocenter)\n",
        "    return interpolation.affine_transform(image,affine,offset=offset)\n"
      ],
      "execution_count": null,
      "outputs": []
    },
    {
      "cell_type": "markdown",
      "metadata": {
        "id": "Pb0ytLdq1e8y"
      },
      "source": [
        "The results of deskewing can be appreciated in the images below"
      ]
    },
    {
      "cell_type": "code",
      "metadata": {
        "id": "_8k_3E03fb5g",
        "outputId": "63038376-7724-43ce-92eb-7a2d1dac7796",
        "colab": {
          "base_uri": "https://localhost:8080/",
          "height": 222
        }
      },
      "source": [
        "plt.subplot(1, 2, 1)\n",
        "plt.imshow(X[7].reshape(28,28))\n",
        "\n",
        "newim = deskew(X[7].reshape(28,28))\n",
        "plt.subplot(1, 2, 2)\n",
        "plt.imshow(newim)"
      ],
      "execution_count": null,
      "outputs": [
        {
          "output_type": "execute_result",
          "data": {
            "text/plain": [
              "<matplotlib.image.AxesImage at 0x7f5a6e081910>"
            ]
          },
          "metadata": {
            "tags": []
          },
          "execution_count": 5
        },
        {
          "output_type": "display_data",
          "data": {
            "image/png": "[encoded data removed]",
            "text/plain": [
              "<Figure size 432x288 with 2 Axes>"
            ]
          },
          "metadata": {
            "tags": [],
            "needs_background": "light"
          }
        }
      ]
    },
    {
      "cell_type": "code",
      "metadata": {
        "id": "ETswx9kxfb2J"
      },
      "source": [
        "def deskewAll(X):\n",
        "    currents = []\n",
        "    for i in range(len(X)):\n",
        "        currents.append(deskew(X[i].reshape(28,28)).flatten())\n",
        "    return np.array(currents)\n",
        "\n",
        "X_deskewed = deskewAll(X)"
      ],
      "execution_count": null,
      "outputs": []
    },
    {
      "cell_type": "markdown",
      "metadata": {
        "id": "paNuV7hAUWGB"
      },
      "source": [
        "Each feature is then transformed by rescaling to a value between 0 and 1"
      ]
    },
    {
      "cell_type": "code",
      "metadata": {
        "id": "UMRuFjPedLh-"
      },
      "source": [
        "scaler = MinMaxScaler(feature_range=(0, 1))\n",
        "rescaledX = scaler.fit_transform(X_deskewed)"
      ],
      "execution_count": null,
      "outputs": []
    },
    {
      "cell_type": "markdown",
      "metadata": {
        "id": "jfODOe6LWWBR"
      },
      "source": [
        "The dataset is split into training and testing sets, with a test size 15% of the total"
      ]
    },
    {
      "cell_type": "code",
      "metadata": {
        "id": "34WjJO7KIorP"
      },
      "source": [
        "x_train, x_test, y_train, y_test = train_test_split(rescaledX, y, test_size=0.3, random_state=42)\n",
        "data = {\"train\": {\"X\": x_train, \"Y\": y_train}, \"test\": {\"X\": x_test, \"Y\": y_test},}"
      ],
      "execution_count": null,
      "outputs": []
    },
    {
      "cell_type": "code",
      "metadata": {
        "id": "7RnrUDTcOCpf"
      },
      "source": [
        "samplesize = len(data[\"train\"][\"X\"])"
      ],
      "execution_count": null,
      "outputs": []
    },
    {
      "cell_type": "code",
      "metadata": {
        "id": "lXpzGPUROuXK"
      },
      "source": [
        "#poly-9 degrees are used with virtual svms (virtualized data)\n",
        "#mnist_classifier = SVC(probability=False, kernel=\"poly\", degree=9, C =2, gamma=0.01)"
      ],
      "execution_count": null,
      "outputs": []
    },
    {
      "cell_type": "markdown",
      "metadata": {
        "id": "e2ceecUoWuhk"
      },
      "source": [
        "**PARAMETER TUNING**\n",
        "\n",
        "\n",
        "---\n",
        "\n",
        "The main parameters considered in the tuning of the model are:\n",
        "\n",
        "\n",
        "*   **C** -> Regularization parameter\n",
        "*   **kernel** -> kernel type used in the algorithm\n",
        "*   **gamma** -> kernel coefficient\n",
        "\n",
        "The only kernel considered for now is the RBF (or Gaussian) kernel; the C and gamma parameters will be selected with the grid search method."
      ]
    },
    {
      "cell_type": "code",
      "metadata": {
        "id": "ulo8OVLM7kaW"
      },
      "source": [
        "gamma_range = [0.0001, 0.01, 1.0, 5]\n",
        "C_range = [0.001, 0.1, 10]\n",
        "parameters = {'kernel':['rbf'], 'C':C_range, 'gamma': gamma_range}"
      ],
      "execution_count": null,
      "outputs": []
    },
    {
      "cell_type": "code",
      "metadata": {
        "id": "oxUhdsRA-uK_",
        "outputId": "b7e18113-13cc-4e8c-ab2a-b89d37789e88",
        "colab": {
          "base_uri": "https://localhost:8080/",
          "height": 38
        }
      },
      "source": [
        "gamma_range"
      ],
      "execution_count": null,
      "outputs": [
        {
          "output_type": "execute_result",
          "data": {
            "text/plain": [
              "[0.0001, 0.01, 1.0, 5]"
            ]
          },
          "metadata": {
            "tags": []
          },
          "execution_count": 12
        }
      ]
    },
    {
      "cell_type": "code",
      "metadata": {
        "id": "9OqZMWDc-vNT",
        "outputId": "2b8f0fb3-3f45-4c55-d21c-cb1aa7626499",
        "colab": {
          "base_uri": "https://localhost:8080/",
          "height": 38
        }
      },
      "source": [
        "C_range"
      ],
      "execution_count": null,
      "outputs": [
        {
          "output_type": "execute_result",
          "data": {
            "text/plain": [
              "[0.001, 0.1, 10]"
            ]
          },
          "metadata": {
            "tags": []
          },
          "execution_count": 13
        }
      ]
    },
    {
      "cell_type": "code",
      "metadata": {
        "id": "chKGR8n--8xS"
      },
      "source": [
        "svm_clf = svm.SVC()\n",
        "grid_clf = GridSearchCV(estimator=svm_clf,param_grid=parameters, cv = 3, n_jobs=7, verbose=10)"
      ],
      "execution_count": null,
      "outputs": []
    },
    {
      "cell_type": "code",
      "metadata": {
        "id": "lQZyzYxu_Gls",
        "tags": [],
        "outputId": "204a2e53-804e-4efb-bed3-d4a304398653",
        "colab": {
          "base_uri": "https://localhost:8080/",
          "height": 38
        }
      },
      "source": [
        "start_time = dt.datetime.now()\n",
        "print('Start param searching at {}'.format(str(start_time)))"
      ],
      "execution_count": null,
      "outputs": [
        {
          "output_type": "stream",
          "text": [
            "Start param searching at 2020-10-08 14:38:00.510789\n"
          ],
          "name": "stdout"
        }
      ]
    },
    {
      "cell_type": "code",
      "metadata": {
        "id": "vQbDYOzs_I9X",
        "tags": []
      },
      "source": [
        "#grid_clf.fit(data[\"train\"][\"X\"][:samplesize], data[\"train\"][\"Y\"][:samplesize])"
      ],
      "execution_count": null,
      "outputs": []
    },
    {
      "cell_type": "code",
      "metadata": {
        "id": "LUcBeh1Q_P3F",
        "scrolled": true,
        "tags": [],
        "outputId": "7e99c75b-5892-4b51-df6e-b819cd6f53a0",
        "colab": {
          "base_uri": "https://localhost:8080/",
          "height": 38
        }
      },
      "source": [
        "elapsed_time= dt.datetime.now() - start_time\n",
        "print('Elapsed time, param searching {}'.format(str(elapsed_time)))"
      ],
      "execution_count": null,
      "outputs": [
        {
          "output_type": "stream",
          "text": [
            "Elapsed time, param searching 0:00:00.009803\n"
          ],
          "name": "stdout"
        }
      ]
    },
    {
      "cell_type": "code",
      "metadata": {
        "id": "z2tE0wUdXdrE",
        "outputId": "19b2f223-5f7c-4a39-a1db-135c8ea0c058"
      },
      "source": [
        "grid_clf_imported = joblib.load('grid_clf.pkl')\n",
        "grid_clf_imported"
      ],
      "execution_count": null,
      "outputs": [
        {
          "output_type": "execute_result",
          "data": {
            "text/plain": [
              "GridSearchCV(cv=3, estimator=SVC(cache_size=1000), n_jobs=7,\n",
              "             param_grid={'C': [0.1, 1, 10, 50, 100],\n",
              "                         'gamma': [0.0001, 0.01, 1.0, 10], 'kernel': ['rbf']},\n",
              "             verbose=10)"
            ]
          },
          "metadata": {
            "tags": []
          },
          "execution_count": 18
        }
      ]
    },
    {
      "cell_type": "code",
      "metadata": {
        "id": "V37G_LmF_QPB"
      },
      "source": [
        "#print(grid_clf.cv_results_.keys())\n",
        "\n",
        "classifier = grid_clf_imported.best_estimator_\n",
        "params = grid_clf_imported.best_params_\n",
        "scores = grid_clf_imported.cv_results_['mean_test_score']"
      ],
      "execution_count": null,
      "outputs": []
    },
    {
      "cell_type": "code",
      "metadata": {
        "id": "lmt5dOV_rfhQ",
        "scrolled": true,
        "outputId": "77e5c893-7aa1-440c-aaca-fb519ae06bf4",
        "colab": {
          "base_uri": "https://localhost:8080/",
          "height": 286
        }
      },
      "source": [
        "plt.plot(scores)"
      ],
      "execution_count": null,
      "outputs": [
        {
          "output_type": "execute_result",
          "data": {
            "text/plain": [
              "[<matplotlib.lines.Line2D at 0x7f5a6da78f40>]"
            ]
          },
          "metadata": {
            "tags": []
          },
          "execution_count": 20
        },
        {
          "output_type": "display_data",
          "data": {
            "image/png": "[encoded data removed]",
            "text/plain": [
              "<Figure size 432x288 with 1 Axes>"
            ]
          },
          "metadata": {
            "tags": [],
            "needs_background": "light"
          }
        }
      ]
    },
    {
      "cell_type": "code",
      "metadata": {
        "id": "F8WUp4CYNKmd",
        "tags": [],
        "outputId": "1cf529fe-4a46-4deb-eeea-d5d873d60f26",
        "colab": {
          "base_uri": "https://localhost:8080/",
          "height": 530
        }
      },
      "source": [
        "print(\"Best performing classifier:\\n\" + str(classifier))\n",
        "print(\"\\nBest parameters:\\n\" + str(params))\n",
        "print(\"\\nAll test scores:\\n\" + str(scores))"
      ],
      "execution_count": null,
      "outputs": [
        {
          "output_type": "stream",
          "text": [
            "Best performing classifier:\n",
            "SVC(C=50, cache_size=1000, gamma=0.01)\n",
            "\n",
            "Best parameters:\n",
            "{'C': 50, 'gamma': 0.01, 'kernel': 'rbf'}\n",
            "\n",
            "All test scores:\n",
            "[0.55932651 0.95579592 0.19553059 0.1125102  0.91991842 0.97334695\n",
            " 0.35477557 0.1125102  0.95091837 0.98218367 0.38485717 0.1125102\n",
            " 0.96085716 0.98257143 0.38485717 0.1125102  0.96330613 0.98238776\n",
            " 0.38485717 0.1125102 ]\n"
          ],
          "name": "stdout"
        }
      ]
    },
    {
      "cell_type": "code",
      "metadata": {
        "id": "O08OIwD1B1HQ"
      },
      "source": [
        "#grid_clf.cv_results_"
      ],
      "execution_count": null,
      "outputs": []
    },
    {
      "cell_type": "code",
      "metadata": {
        "id": "tow4TA4LS_zX"
      },
      "source": [
        "#predicted = grid_clf.predict(data[\"test\"][\"X\"])\n",
        "#print(\"Confusion matrix:\\n%s\" % metrics.confusion_matrix(data[\"test\"][\"Y\"], predicted))\n",
        "#print(\"Accuracy: %0.4f\" % metrics.accuracy_score(data[\"test\"][\"Y\"], predicted))\n"
      ],
      "execution_count": null,
      "outputs": []
    },
    {
      "cell_type": "code",
      "metadata": {
        "id": "AoJ0HUECmQ0D",
        "tags": [],
        "outputId": "33d79ae8-d4b1-4aef-b25b-0a731179ff4d",
        "colab": {
          "base_uri": "https://localhost:8080/",
          "height": 449
        }
      },
      "source": [
        "predicted = grid_clf_imported.predict(data[\"test\"][\"X\"])\n",
        "df_cm = pd.DataFrame(metrics.confusion_matrix(data[\"test\"][\"Y\"], predicted))\n",
        "plt.figure(figsize = (10,7))\n",
        "sns.heatmap(df_cm, annot=True, cmap=\"YlOrRd\", fmt=\"d\")\n",
        "print(\"Accuracy: %0.4f\" % metrics.accuracy_score(data[\"test\"][\"Y\"], predicted))"
      ],
      "execution_count": null,
      "outputs": [
        {
          "output_type": "stream",
          "text": [
            "Accuracy: 0.9851\n"
          ],
          "name": "stdout"
        },
        {
          "output_type": "display_data",
          "data": {
            "image/png": "[encoded data removed]",
            "text/plain": [
              "<Figure size 720x504 with 2 Axes>"
            ]
          },
          "metadata": {
            "tags": [],
            "needs_background": "light"
          }
        }
      ]
    },
    {
      "cell_type": "code",
      "metadata": {
        "id": "E54eBJhYhZCt"
      },
      "source": [
        "#print(sklearn.metrics.matthews_corrcoef(y_pred, data[\"test\"][\"Y\"]))"
      ],
      "execution_count": null,
      "outputs": []
    },
    {
      "cell_type": "code",
      "metadata": {
        "id": "dQUJrDJajt_X"
      },
      "source": [
        "params_df = pd.concat([pd.DataFrame(grid_clf_imported.cv_results_[\"params\"]),pd.DataFrame(grid_clf_imported.cv_results_[\"mean_test_score\"], columns=[\"Accuracy\"])],axis=1)"
      ],
      "execution_count": null,
      "outputs": []
    },
    {
      "cell_type": "code",
      "metadata": {
        "id": "AS1atSHWOBHY",
        "outputId": "a92ae1e0-8413-4c50-b16f-c2f2c77a3395",
        "colab": {
          "base_uri": "https://localhost:8080/",
          "height": 424
        }
      },
      "source": [
        "params_df"
      ],
      "execution_count": null,
      "outputs": [
        {
          "output_type": "execute_result",
          "data": {
            "text/html": [
              "<div>\n",
              "<style scoped>\n",
              "    .dataframe tbody tr th:only-of-type {\n",
              "        vertical-align: middle;\n",
              "    }\n",
              "\n",
              "    .dataframe tbody tr th {\n",
              "        vertical-align: top;\n",
              "    }\n",
              "\n",
              "    .dataframe thead th {\n",
              "        text-align: right;\n",
              "    }\n",
              "</style>\n",
              "<table border=\"1\" class=\"dataframe\">\n",
              "  <thead>\n",
              "    <tr style=\"text-align: right;\">\n",
              "      <th></th>\n",
              "      <th>C</th>\n",
              "      <th>gamma</th>\n",
              "      <th>kernel</th>\n",
              "      <th>Accuracy</th>\n",
              "    </tr>\n",
              "  </thead>\n",
              "  <tbody>\n",
              "    <tr>\n",
              "      <th>0</th>\n",
              "      <td>0.1</td>\n",
              "      <td>0.0001</td>\n",
              "      <td>rbf</td>\n",
              "      <td>0.559327</td>\n",
              "    </tr>\n",
              "    <tr>\n",
              "      <th>1</th>\n",
              "      <td>0.1</td>\n",
              "      <td>0.0100</td>\n",
              "      <td>rbf</td>\n",
              "      <td>0.955796</td>\n",
              "    </tr>\n",
              "    <tr>\n",
              "      <th>2</th>\n",
              "      <td>0.1</td>\n",
              "      <td>1.0000</td>\n",
              "      <td>rbf</td>\n",
              "      <td>0.195531</td>\n",
              "    </tr>\n",
              "    <tr>\n",
              "      <th>3</th>\n",
              "      <td>0.1</td>\n",
              "      <td>10.0000</td>\n",
              "      <td>rbf</td>\n",
              "      <td>0.112510</td>\n",
              "    </tr>\n",
              "    <tr>\n",
              "      <th>4</th>\n",
              "      <td>1.0</td>\n",
              "      <td>0.0001</td>\n",
              "      <td>rbf</td>\n",
              "      <td>0.919918</td>\n",
              "    </tr>\n",
              "    <tr>\n",
              "      <th>5</th>\n",
              "      <td>1.0</td>\n",
              "      <td>0.0100</td>\n",
              "      <td>rbf</td>\n",
              "      <td>0.973347</td>\n",
              "    </tr>\n",
              "    <tr>\n",
              "      <th>6</th>\n",
              "      <td>1.0</td>\n",
              "      <td>1.0000</td>\n",
              "      <td>rbf</td>\n",
              "      <td>0.354776</td>\n",
              "    </tr>\n",
              "    <tr>\n",
              "      <th>7</th>\n",
              "      <td>1.0</td>\n",
              "      <td>10.0000</td>\n",
              "      <td>rbf</td>\n",
              "      <td>0.112510</td>\n",
              "    </tr>\n",
              "    <tr>\n",
              "      <th>8</th>\n",
              "      <td>10.0</td>\n",
              "      <td>0.0001</td>\n",
              "      <td>rbf</td>\n",
              "      <td>0.950918</td>\n",
              "    </tr>\n",
              "    <tr>\n",
              "      <th>9</th>\n",
              "      <td>10.0</td>\n",
              "      <td>0.0100</td>\n",
              "      <td>rbf</td>\n",
              "      <td>0.982184</td>\n",
              "    </tr>\n",
              "    <tr>\n",
              "      <th>10</th>\n",
              "      <td>10.0</td>\n",
              "      <td>1.0000</td>\n",
              "      <td>rbf</td>\n",
              "      <td>0.384857</td>\n",
              "    </tr>\n",
              "    <tr>\n",
              "      <th>11</th>\n",
              "      <td>10.0</td>\n",
              "      <td>10.0000</td>\n",
              "      <td>rbf</td>\n",
              "      <td>0.112510</td>\n",
              "    </tr>\n",
              "    <tr>\n",
              "      <th>12</th>\n",
              "      <td>50.0</td>\n",
              "      <td>0.0001</td>\n",
              "      <td>rbf</td>\n",
              "      <td>0.960857</td>\n",
              "    </tr>\n",
              "    <tr>\n",
              "      <th>13</th>\n",
              "      <td>50.0</td>\n",
              "      <td>0.0100</td>\n",
              "      <td>rbf</td>\n",
              "      <td>0.982571</td>\n",
              "    </tr>\n",
              "    <tr>\n",
              "      <th>14</th>\n",
              "      <td>50.0</td>\n",
              "      <td>1.0000</td>\n",
              "      <td>rbf</td>\n",
              "      <td>0.384857</td>\n",
              "    </tr>\n",
              "    <tr>\n",
              "      <th>15</th>\n",
              "      <td>50.0</td>\n",
              "      <td>10.0000</td>\n",
              "      <td>rbf</td>\n",
              "      <td>0.112510</td>\n",
              "    </tr>\n",
              "    <tr>\n",
              "      <th>16</th>\n",
              "      <td>100.0</td>\n",
              "      <td>0.0001</td>\n",
              "      <td>rbf</td>\n",
              "      <td>0.963306</td>\n",
              "    </tr>\n",
              "    <tr>\n",
              "      <th>17</th>\n",
              "      <td>100.0</td>\n",
              "      <td>0.0100</td>\n",
              "      <td>rbf</td>\n",
              "      <td>0.982388</td>\n",
              "    </tr>\n",
              "    <tr>\n",
              "      <th>18</th>\n",
              "      <td>100.0</td>\n",
              "      <td>1.0000</td>\n",
              "      <td>rbf</td>\n",
              "      <td>0.384857</td>\n",
              "    </tr>\n",
              "    <tr>\n",
              "      <th>19</th>\n",
              "      <td>100.0</td>\n",
              "      <td>10.0000</td>\n",
              "      <td>rbf</td>\n",
              "      <td>0.112510</td>\n",
              "    </tr>\n",
              "  </tbody>\n",
              "</table>\n",
              "</div>"
            ],
            "text/plain": [
              "        C    gamma kernel  Accuracy\n",
              "0     0.1   0.0001    rbf  0.559327\n",
              "1     0.1   0.0100    rbf  0.955796\n",
              "2     0.1   1.0000    rbf  0.195531\n",
              "3     0.1  10.0000    rbf  0.112510\n",
              "4     1.0   0.0001    rbf  0.919918\n",
              "5     1.0   0.0100    rbf  0.973347\n",
              "6     1.0   1.0000    rbf  0.354776\n",
              "7     1.0  10.0000    rbf  0.112510\n",
              "8    10.0   0.0001    rbf  0.950918\n",
              "9    10.0   0.0100    rbf  0.982184\n",
              "10   10.0   1.0000    rbf  0.384857\n",
              "11   10.0  10.0000    rbf  0.112510\n",
              "12   50.0   0.0001    rbf  0.960857\n",
              "13   50.0   0.0100    rbf  0.982571\n",
              "14   50.0   1.0000    rbf  0.384857\n",
              "15   50.0  10.0000    rbf  0.112510\n",
              "16  100.0   0.0001    rbf  0.963306\n",
              "17  100.0   0.0100    rbf  0.982388\n",
              "18  100.0   1.0000    rbf  0.384857\n",
              "19  100.0  10.0000    rbf  0.112510"
            ]
          },
          "metadata": {
            "tags": []
          },
          "execution_count": 27
        }
      ]
    },
    {
      "cell_type": "code",
      "metadata": {
        "id": "5WYbCuI2OQAE",
        "tags": [],
        "outputId": "ccc19fad-bfe4-4e7e-f153-f1a9ee98f33a",
        "colab": {
          "base_uri": "https://localhost:8080/",
          "height": 102
        }
      },
      "source": [
        "print(\"Best parameters set found on development set:\")\n",
        "print()\n",
        "print(grid_clf_imported.best_params_)\n",
        "print()"
      ],
      "execution_count": null,
      "outputs": [
        {
          "output_type": "stream",
          "text": [
            "Best parameters set found on development set:\n",
            "\n",
            "{'C': 50, 'gamma': 0.01, 'kernel': 'rbf'}\n",
            "\n"
          ],
          "name": "stdout"
        }
      ]
    },
    {
      "cell_type": "code",
      "metadata": {
        "id": "n9ORPu18iiO7",
        "tags": [],
        "outputId": "20f4b134-0822-4634-9322-a3af66908cb2",
        "colab": {
          "base_uri": "https://localhost:8080/",
          "height": 1000
        }
      },
      "source": [
        "means = grid_clf_imported.cv_results_['mean_test_score']\n",
        "stds = grid_clf_imported.cv_results_['std_test_score']\n",
        "for mean, std, params in zip(means, stds, grid_clf_imported.cv_results_['params']):\n",
        "  print(\"%0.3f (+/-%0.03f) with %r\" % (mean, std * 2, params))"
      ],
      "execution_count": null,
      "outputs": [
        {
          "output_type": "stream",
          "text": [
            "0.559 (+/-0.002) with {'C': 0.1, 'gamma': 0.0001, 'kernel': 'rbf'}\n",
            "0.956 (+/-0.002) with {'C': 0.1, 'gamma': 0.01, 'kernel': 'rbf'}\n",
            "0.196 (+/-0.002) with {'C': 0.1, 'gamma': 1.0, 'kernel': 'rbf'}\n",
            "0.113 (+/-0.000) with {'C': 0.1, 'gamma': 10, 'kernel': 'rbf'}\n",
            "0.920 (+/-0.004) with {'C': 1, 'gamma': 0.0001, 'kernel': 'rbf'}\n",
            "0.973 (+/-0.001) with {'C': 1, 'gamma': 0.01, 'kernel': 'rbf'}\n",
            "0.355 (+/-0.004) with {'C': 1, 'gamma': 1.0, 'kernel': 'rbf'}\n",
            "0.113 (+/-0.000) with {'C': 1, 'gamma': 10, 'kernel': 'rbf'}\n",
            "0.951 (+/-0.003) with {'C': 10, 'gamma': 0.0001, 'kernel': 'rbf'}\n",
            "0.982 (+/-0.000) with {'C': 10, 'gamma': 0.01, 'kernel': 'rbf'}\n",
            "0.385 (+/-0.003) with {'C': 10, 'gamma': 1.0, 'kernel': 'rbf'}\n",
            "0.113 (+/-0.000) with {'C': 10, 'gamma': 10, 'kernel': 'rbf'}\n",
            "0.961 (+/-0.002) with {'C': 50, 'gamma': 0.0001, 'kernel': 'rbf'}\n",
            "0.983 (+/-0.000) with {'C': 50, 'gamma': 0.01, 'kernel': 'rbf'}\n",
            "0.385 (+/-0.003) with {'C': 50, 'gamma': 1.0, 'kernel': 'rbf'}\n",
            "0.113 (+/-0.000) with {'C': 50, 'gamma': 10, 'kernel': 'rbf'}\n",
            "0.963 (+/-0.002) with {'C': 100, 'gamma': 0.0001, 'kernel': 'rbf'}\n",
            "0.982 (+/-0.000) with {'C': 100, 'gamma': 0.01, 'kernel': 'rbf'}\n",
            "0.385 (+/-0.003) with {'C': 100, 'gamma': 1.0, 'kernel': 'rbf'}\n",
            "0.113 (+/-0.000) with {'C': 100, 'gamma': 10, 'kernel': 'rbf'}\n"
          ],
          "name": "stdout"
        }
      ]
    },
    {
      "cell_type": "code",
      "metadata": {
        "id": "0e2HbaLQU2Sj",
        "outputId": "f8c9896e-b49e-461c-bcb4-4c2e74ce82db",
        "colab": {
          "base_uri": "https://localhost:8080/",
          "height": 102
        }
      },
      "source": [
        "# best parameters: {'C': 50, 'gamma': 0.01, 'kernel': 'rbf'}\n",
        "mnist_classifier = SVC(probability=False, kernel=\"rbf\", C=50, gamma=0.001)\n",
        "mnist_classifier.fit(data[\"train\"][\"X\"][:samplesize], data[\"train\"][\"Y\"][:samplesize])"
      ],
      "execution_count": null,
      "outputs": [
        {
          "output_type": "execute_result",
          "data": {
            "text/plain": [
              "SVC(C=50, gamma=0.001)"
            ]
          },
          "metadata": {
            "tags": []
          },
          "execution_count": 51
        }
      ]
    },
    {
      "cell_type": "code",
      "metadata": {
        "id": "7UMrQ8GQwpzl",
        "tags": [],
        "outputId": "84847593-efb5-485f-e99e-009940aa705b",
        "colab": {
          "base_uri": "https://localhost:8080/",
          "height": 273
        }
      },
      "source": [
        "predicted = mnist_classifier.predict(data[\"test\"][\"X\"])\n",
        "print(\"Confusion matrix:\\n%s\" % metrics.confusion_matrix(data[\"test\"][\"Y\"], predicted))\n",
        "print(\"Accuracy: %0.4f\" % metrics.accuracy_score(data[\"test\"][\"Y\"], predicted))\n",
        "\n",
        "# try_id = 1\n",
        "#out = clf.predict(data[\"test\"][\"X\"][try_id])  # clf.predict_proba\n",
        "#print(\"out: %s\" % out)\n",
        "#size = int(len(data[\"test\"][\"X\"][try_id]) ** (0.5))\n",
        "#view_image(\n",
        "#    data[\"test\"][\"X\"][try_id].reshape((size, size)), data[\"test\"][\"y\"][try_id]\n",
        "#)'''"
      ],
      "execution_count": null,
      "outputs": [
        {
          "output_type": "stream",
          "text": [
            "Confusion matrix:\n",
            "[[2026    0    6    1    5    5    9    0    6    0]\n",
            " [   0 2346    4    4    1    0    1    3    2    3]\n",
            " [   5    8 2061    9    9    2   11   11   14    3]\n",
            " [   1    2   31 2100    1   14    0    6   11   10]\n",
            " [   1    7    5    1 1888    1    5    5    1   22]\n",
            " [   5    1    1   24    3 1855   15    1    9    1]\n",
            " [   5    0    7    2   16    3 2050    1    4    0]\n",
            " [   2    5   15    1   12    1    0 2189    0   23]\n",
            " [   5    7    9   19    7   12    8    7 1912    6]\n",
            " [   9    5    3   14   31    6    1   30   11 1980]]\n",
            "Accuracy: 0.9718\n"
          ],
          "name": "stdout"
        }
      ]
    },
    {
      "cell_type": "code",
      "metadata": {
        "id": "RLcxHvOVYmce",
        "outputId": "774ec9da-75ea-4170-c3ad-e6130c1bafcd",
        "colab": {
          "base_uri": "https://localhost:8080/",
          "height": 38
        }
      },
      "source": [
        "metrics.matthews_corrcoef(data[\"test\"][\"Y\"], predicted)\n"
      ],
      "execution_count": null,
      "outputs": [
        {
          "output_type": "execute_result",
          "data": {
            "text/plain": [
              "0.9831155769891349"
            ]
          },
          "metadata": {
            "tags": []
          },
          "execution_count": 50
        }
      ]
    },
    {
      "cell_type": "markdown",
      "metadata": {
        "id": "79ykHczvXdsl"
      },
      "source": [
        "| Kernel| C | Gamma | Accuracy | MCC |\n",
        "|---|---|---|---|---|\n",
        "|RBF| 50 | 0.001 | 0.9718 | 0.9826\n",
        "|RBF| 10 | 0.01 | 0.9844 | 0.9826\n",
        "|RBF| 50 | 0.01 | 0.9851 | 0.9826\n",
        "|RBF| 75 | 0.01 | 0.9848 | 0.9831\n",
        "|RBF| 100 | 0.01 | 0.9849 | 0.9831\n"
      ]
    },
    {
      "cell_type": "code",
      "metadata": {
        "id": "PSuq82kBbQMZ",
        "tags": [],
        "outputId": "fe5c8b01-5fc3-4204-cc1f-f44b771e1d73",
        "colab": {
          "base_uri": "https://localhost:8080/",
          "height": 380
        }
      },
      "source": [
        "print(metrics.classification_report(data[\"test\"][\"Y\"], predicted))"
      ],
      "execution_count": null,
      "outputs": [
        {
          "output_type": "stream",
          "text": [
            "              precision    recall  f1-score   support\n",
            "\n",
            "           0       0.99      0.99      0.99      2058\n",
            "           1       0.99      0.99      0.99      2364\n",
            "           2       0.98      0.98      0.98      2133\n",
            "           3       0.98      0.98      0.98      2176\n",
            "           4       0.98      0.98      0.98      1936\n",
            "           5       0.99      0.99      0.99      1915\n",
            "           6       0.99      0.99      0.99      2088\n",
            "           7       0.99      0.99      0.99      2248\n",
            "           8       0.98      0.98      0.98      1992\n",
            "           9       0.98      0.97      0.97      2090\n",
            "\n",
            "    accuracy                           0.98     21000\n",
            "   macro avg       0.98      0.98      0.98     21000\n",
            "weighted avg       0.98      0.98      0.98     21000\n",
            "\n"
          ],
          "name": "stdout"
        }
      ]
    },
    {
      "cell_type": "code",
      "metadata": {
        "id": "HSHQSTn6cFfJ"
      },
      "source": [
        "#poly_parameters = {'kernel':['poly'], 'degree':[8,9], 'C':C_range, 'gamma': gamma_range}\n",
        "#poly_grid_clf = GridSearchCV(estimator=svm_clf,param_grid=poly_parameters, n_jobs=7, verbose=2)\n",
        "#poly_grid_clf.fit(data[\"train\"][\"X\"][:1000], data[\"train\"][\"Y\"][:1000])\n"
      ],
      "execution_count": null,
      "outputs": []
    },
    {
      "cell_type": "code",
      "metadata": {
        "id": "nico5_qJihai"
      },
      "source": [
        "#poly_predicted = poly_grid_clf.predict(data[\"test\"][\"X\"])\n",
        "#df_cm = pd.DataFrame(metrics.confusion_matrix(data[\"test\"][\"Y\"], poly_predicted))\n",
        "#plt.figure(figsize = (10,7))\n",
        "#sns.heatmap(df_cm, annot=True, cmap=\"YlOrRd\", fmt=\"d\")\n",
        "#print(\"Accuracy: %0.4f\" % metrics.accuracy_score(data[\"test\"][\"Y\"], poly_predicted))"
      ],
      "execution_count": null,
      "outputs": []
    },
    {
      "cell_type": "code",
      "metadata": {
        "id": "kj_mkMokj112"
      },
      "source": [
        "#print(poly_grid_clf.best_params_)"
      ],
      "execution_count": null,
      "outputs": []
    }
  ]
}