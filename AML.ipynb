{
  "nbformat": 4,
  "nbformat_minor": 0,
  "metadata": {
    "colab": {
      "name": "AML",
      "provenance": [],
      "collapsed_sections": [],
      "include_colab_link": true
    },
    "kernelspec": {
      "display_name": "Python 3",
      "language": "python",
      "name": "python3"
    },
    "language_info": {
      "codemirror_mode": {
        "name": "ipython",
        "version": 3
      },
      "file_extension": ".py",
      "mimetype": "text/x-python",
      "name": "python",
      "nbconvert_exporter": "python",
      "pygments_lexer": "ipython3",
      "version": "3.8.6"
    }
  },
  "cells": [
    {
      "cell_type": "markdown",
      "metadata": {
        "id": "view-in-github",
        "colab_type": "text"
      },
      "source": [
        "<a href=\"https://colab.research.google.com/github/matteobolner/AML_Basic/blob/master/AML.ipynb\" target=\"_parent\"><img src=\"https://colab.research.google.com/assets/colab-badge.svg\" alt=\"Open In Colab\"/></a>"
      ]
    },
    {
      "cell_type": "markdown",
      "metadata": {
        "id": "RCSI4c7WzNAx"
      },
      "source": [
        "**LIBRARIES**\n",
        "\n",
        "---\n",
        "\n",
        "\n",
        "\n",
        "\n"
      ]
    },
    {
      "cell_type": "code",
      "metadata": {
        "id": "q74nVTBCXzz5"
      },
      "source": [
        "import scipy as sp\n",
        "import math\n",
        "import matplotlib.pyplot as plt\n",
        "import numpy as np\n",
        "import pandas as pd\n",
        "import seaborn as sns\n",
        "import time\n",
        "import datetime as dt\n",
        "import joblib\n",
        "from urllib.request import urlopen\n",
        "from numpy import set_printoptions\n",
        "from scipy.ndimage import interpolation\n",
        "from sklearn.preprocessing import MinMaxScaler\n",
        "from sklearn.model_selection import train_test_split\n",
        "from sklearn.model_selection import GridSearchCV\n",
        "from sklearn.metrics import classification_report\n",
        "from sklearn import datasets, svm, metrics\n",
        "from sklearn.datasets import fetch_openml\n",
        "from sklearn.svm import SVC"
      ],
      "execution_count": 117,
      "outputs": []
    },
    {
      "cell_type": "markdown",
      "metadata": {
        "id": "gDAIh75FzLon"
      },
      "source": [
        "  \n",
        "\n",
        "**LOADING THE DATASET**\n",
        "\n",
        "---\n",
        "\n",
        "\n"
      ]
    },
    {
      "cell_type": "code",
      "metadata": {
        "id": "0z89hzuJc4g1"
      },
      "source": [
        "X, y = fetch_openml('mnist_784', version=1, return_X_y=True)"
      ],
      "execution_count": 118,
      "outputs": []
    },
    {
      "cell_type": "code",
      "metadata": {
        "id": "8hSmezWWMPiN",
        "outputId": "8eb8326a-bc83-4ceb-cd70-6c584f68a507",
        "colab": {
          "base_uri": "https://localhost:8080/",
          "height": 286
        }
      },
      "source": [
        "plt.imshow(X[7].reshape(28,28))"
      ],
      "execution_count": 119,
      "outputs": [
        {
          "output_type": "execute_result",
          "data": {
            "text/plain": [
              "<matplotlib.image.AxesImage at 0x7fe703cd1d68>"
            ]
          },
          "metadata": {
            "tags": []
          },
          "execution_count": 119
        },
        {
          "output_type": "display_data",
          "data": {
            "image/png": "[encoded data removed]",
            "text/plain": [
              "<Figure size 432x288 with 1 Axes>"
            ]
          },
          "metadata": {
            "tags": [],
            "needs_background": "light"
          }
        }
      ]
    },
    {
      "cell_type": "markdown",
      "metadata": {
        "id": "Cz-eqn0Ehpow"
      },
      "source": [
        "**DATA PREPROCESSING**\n",
        "\n",
        "---\n",
        "\n",
        "According to most literature available and the official MNIST website (http://yann.lecun.com/exdb/mnist/), most handwriting classification models based on Support Vector Machines (SVM) benefit from deskewing, that is the straightening of the numbers in the images.    \n",
        "Therefore, all the images in the dataset were processed with deskewing, using the method available at https://fsix.github.io/mnist/Deskewing.html\n",
        "\n",
        "\n",
        "\n",
        "\n",
        "\n",
        "\n"
      ]
    },
    {
      "cell_type": "code",
      "metadata": {
        "id": "71g6xHhufb_w"
      },
      "source": [
        "def moments(image):\n",
        "    c0,c1 = np.mgrid[:image.shape[0],:image.shape[1]] # A trick in numPy to create a mesh grid\n",
        "    totalImage = np.sum(image) #sum of pixels\n",
        "    m0 = np.sum(c0*image)/totalImage #mu_x\n",
        "    m1 = np.sum(c1*image)/totalImage #mu_y\n",
        "    m00 = np.sum((c0-m0)**2*image)/totalImage #var(x)\n",
        "    m11 = np.sum((c1-m1)**2*image)/totalImage #var(y)\n",
        "    m01 = np.sum((c0-m0)*(c1-m1)*image)/totalImage #covariance(x,y)\n",
        "    mu_vector = np.array([m0,m1])\n",
        "    covariance_matrix = np.array([[m00,m01],[m01,m11]])\n",
        "    return mu_vector, covariance_matrix\n",
        "\n",
        "def deskew(image):\n",
        "    c,v = moments(image)\n",
        "    alpha = v[0,1]/v[0,0]\n",
        "    affine = np.array([[1,0],[alpha,1]])\n",
        "    ocenter = np.array(image.shape)/2.0\n",
        "    offset = c-np.dot(affine,ocenter)\n",
        "    return interpolation.affine_transform(image,affine,offset=offset)\n"
      ],
      "execution_count": 120,
      "outputs": []
    },
    {
      "cell_type": "markdown",
      "metadata": {
        "id": "Pb0ytLdq1e8y"
      },
      "source": [
        "The results of deskewing can be appreciated in the images below"
      ]
    },
    {
      "cell_type": "code",
      "metadata": {
        "id": "_8k_3E03fb5g",
        "outputId": "46053897-70b7-4d9b-e8d3-c6b9c5952780",
        "colab": {
          "base_uri": "https://localhost:8080/",
          "height": 222
        }
      },
      "source": [
        "plt.subplot(1, 2, 1)\n",
        "plt.imshow(X[7].reshape(28,28))\n",
        "\n",
        "newim = deskew(X[7].reshape(28,28))\n",
        "plt.subplot(1, 2, 2)\n",
        "plt.imshow(newim)"
      ],
      "execution_count": 121,
      "outputs": [
        {
          "output_type": "execute_result",
          "data": {
            "text/plain": [
              "<matplotlib.image.AxesImage at 0x7fe7012ccf98>"
            ]
          },
          "metadata": {
            "tags": []
          },
          "execution_count": 121
        },
        {
          "output_type": "display_data",
          "data": {
            "image/png": "[encoded data removed]",
            "text/plain": [
              "<Figure size 432x288 with 2 Axes>"
            ]
          },
          "metadata": {
            "tags": [],
            "needs_background": "light"
          }
        }
      ]
    },
    {
      "cell_type": "code",
      "metadata": {
        "id": "ETswx9kxfb2J"
      },
      "source": [
        "def deskewAll(X):\n",
        "    currents = []\n",
        "    for i in range(len(X)):\n",
        "        currents.append(deskew(X[i].reshape(28,28)).flatten())\n",
        "    return np.array(currents)\n",
        "\n",
        "X_deskewed = deskewAll(X)"
      ],
      "execution_count": 122,
      "outputs": []
    },
    {
      "cell_type": "markdown",
      "metadata": {
        "id": "paNuV7hAUWGB"
      },
      "source": [
        "Each feature is then transformed by rescaling to a value between 0 and 1"
      ]
    },
    {
      "cell_type": "code",
      "metadata": {
        "id": "UMRuFjPedLh-"
      },
      "source": [
        "scaler = MinMaxScaler(feature_range=(0, 1))\n",
        "rescaledX = scaler.fit_transform(X_deskewed)"
      ],
      "execution_count": 123,
      "outputs": []
    },
    {
      "cell_type": "markdown",
      "metadata": {
        "id": "jfODOe6LWWBR"
      },
      "source": [
        "The dataset is split into training and testing sets, with a test size 20% of the total"
      ]
    },
    {
      "cell_type": "code",
      "metadata": {
        "id": "34WjJO7KIorP"
      },
      "source": [
        "x_train, x_test, y_train, y_test = train_test_split(rescaledX, y, test_size=0.2, random_state=42)\n",
        "data = {\"train\": {\"X\": x_train, \"Y\": y_train}, \"test\": {\"X\": x_test, \"Y\": y_test},}"
      ],
      "execution_count": 124,
      "outputs": []
    },
    {
      "cell_type": "code",
      "metadata": {
        "id": "7RnrUDTcOCpf"
      },
      "source": [
        "samplesize = len(data[\"train\"][\"X\"])"
      ],
      "execution_count": 125,
      "outputs": []
    },
    {
      "cell_type": "code",
      "metadata": {
        "id": "lXpzGPUROuXK"
      },
      "source": [
        "#poly-9 degrees are used with virtual svms (virtualized data)\n",
        "#mnist_classifier = SVC(probability=False, kernel=\"poly\", degree=9, C =2, gamma=0.01)"
      ],
      "execution_count": 126,
      "outputs": []
    },
    {
      "cell_type": "markdown",
      "metadata": {
        "id": "e2ceecUoWuhk"
      },
      "source": [
        "**PARAMETER TUNING**\n",
        "\n",
        "\n",
        "---\n",
        "\n",
        "The main parameters considered in the tuning of the model are:\n",
        "\n",
        "\n",
        "*   **C** -> Regularization parameter\n",
        "*   **kernel** -> kernel type used in the algorithm\n",
        "*   **gamma** -> kernel coefficient\n",
        "\n",
        "The only kernel considered for now is the RBF (or Gaussian) kernel; the C and gamma parameters will be selected with the grid search method."
      ]
    },
    {
      "cell_type": "code",
      "metadata": {
        "id": "ulo8OVLM7kaW"
      },
      "source": [
        "gamma_range = [0.0001, 0.01, 1.0, 5]\n",
        "C_range = [0.001, 0.1, 10]\n",
        "parameters = {'kernel':['rbf'], 'C':C_range, 'gamma': gamma_range}"
      ],
      "execution_count": 127,
      "outputs": []
    },
    {
      "cell_type": "code",
      "metadata": {
        "id": "oxUhdsRA-uK_",
        "outputId": "fae2c669-fda9-4a1a-ee2d-e071d03b62b0",
        "colab": {
          "base_uri": "https://localhost:8080/",
          "height": 38
        }
      },
      "source": [
        "gamma_range"
      ],
      "execution_count": 128,
      "outputs": [
        {
          "output_type": "execute_result",
          "data": {
            "text/plain": [
              "[0.0001, 0.01, 1.0, 5]"
            ]
          },
          "metadata": {
            "tags": []
          },
          "execution_count": 128
        }
      ]
    },
    {
      "cell_type": "code",
      "metadata": {
        "id": "9OqZMWDc-vNT",
        "outputId": "f32c9b8f-0aa8-4d30-87fd-076726e2f527",
        "colab": {
          "base_uri": "https://localhost:8080/",
          "height": 38
        }
      },
      "source": [
        "C_range"
      ],
      "execution_count": 129,
      "outputs": [
        {
          "output_type": "execute_result",
          "data": {
            "text/plain": [
              "[0.001, 0.1, 10]"
            ]
          },
          "metadata": {
            "tags": []
          },
          "execution_count": 129
        }
      ]
    },
    {
      "cell_type": "code",
      "metadata": {
        "id": "chKGR8n--8xS"
      },
      "source": [
        "svm_clf = svm.SVC()\n",
        "grid_clf = GridSearchCV(estimator=svm_clf,param_grid=parameters, cv = 3, n_jobs=7, verbose=10)"
      ],
      "execution_count": 130,
      "outputs": []
    },
    {
      "cell_type": "code",
      "metadata": {
        "id": "lQZyzYxu_Gls",
        "tags": [],
        "outputId": "3810fa50-070b-4aa6-d1f7-d1469d9d6d51",
        "colab": {
          "base_uri": "https://localhost:8080/",
          "height": 38
        }
      },
      "source": [
        "start_time = dt.datetime.now()\n",
        "print('Start param searching at {}'.format(str(start_time)))"
      ],
      "execution_count": 131,
      "outputs": [
        {
          "output_type": "stream",
          "text": [
            "Start param searching at 2020-10-09 09:48:29.422294\n"
          ],
          "name": "stdout"
        }
      ]
    },
    {
      "cell_type": "code",
      "metadata": {
        "id": "vQbDYOzs_I9X",
        "tags": []
      },
      "source": [
        "#grid_clf.fit(data[\"train\"][\"X\"][:samplesize], data[\"train\"][\"Y\"][:samplesize])"
      ],
      "execution_count": 132,
      "outputs": []
    },
    {
      "cell_type": "code",
      "metadata": {
        "id": "LUcBeh1Q_P3F",
        "scrolled": true,
        "tags": [],
        "outputId": "39e6645e-fdc6-4376-c57f-c6f754da7ee2",
        "colab": {
          "base_uri": "https://localhost:8080/",
          "height": 38
        }
      },
      "source": [
        "elapsed_time= dt.datetime.now() - start_time\n",
        "print('Elapsed time, param searching {}'.format(str(elapsed_time)))"
      ],
      "execution_count": 133,
      "outputs": [
        {
          "output_type": "stream",
          "text": [
            "Elapsed time, param searching 0:00:00.021313\n"
          ],
          "name": "stdout"
        }
      ]
    },
    {
      "cell_type": "code",
      "metadata": {
        "id": "l71w9xAYa3vb",
        "outputId": "54174b9a-f5fb-49e0-86a9-0862038c95a4",
        "colab": {
          "base_uri": "https://localhost:8080/",
          "height": 122
        }
      },
      "source": [
        "grid_clf_imported = joblib.load(urlopen('https://github.com/matteobolner/AML_Basic/blob/master/grid_clf.pkl?raw=true'))"
      ],
      "execution_count": 134,
      "outputs": [
        {
          "output_type": "stream",
          "text": [
            "/usr/local/lib/python3.6/dist-packages/sklearn/base.py:318: UserWarning: Trying to unpickle estimator SVC from version 0.23.2 when using version 0.22.2.post1. This might lead to breaking code or invalid results. Use at your own risk.\n",
            "  UserWarning)\n",
            "/usr/local/lib/python3.6/dist-packages/sklearn/base.py:318: UserWarning: Trying to unpickle estimator GridSearchCV from version 0.23.2 when using version 0.22.2.post1. This might lead to breaking code or invalid results. Use at your own risk.\n",
            "  UserWarning)\n"
          ],
          "name": "stderr"
        }
      ]
    },
    {
      "cell_type": "code",
      "metadata": {
        "id": "z2tE0wUdXdrE",
        "outputId": "61472dd0-ec63-4194-ca00-0e96784a717f",
        "colab": {
          "base_uri": "https://localhost:8080/",
          "height": 273
        }
      },
      "source": [
        "grid_clf_imported"
      ],
      "execution_count": 135,
      "outputs": [
        {
          "output_type": "execute_result",
          "data": {
            "text/plain": [
              "GridSearchCV(cv=3, error_score=nan,\n",
              "             estimator=SVC(C=1.0, break_ties=False, cache_size=1000,\n",
              "                           class_weight=None, coef0=0.0,\n",
              "                           decision_function_shape='ovr', degree=3,\n",
              "                           gamma='scale', kernel='rbf', max_iter=-1,\n",
              "                           probability=False, random_state=None, shrinking=True,\n",
              "                           tol=0.001, verbose=False),\n",
              "             iid='deprecated', n_jobs=7,\n",
              "             param_grid={'C': [0.1, 1, 10, 50, 100],\n",
              "                         'gamma': [0.0001, 0.01, 1.0, 10], 'kernel': ['rbf']},\n",
              "             pre_dispatch='2*n_jobs', refit=True, return_train_score=False,\n",
              "             scoring=None, verbose=10)"
            ]
          },
          "metadata": {
            "tags": []
          },
          "execution_count": 135
        }
      ]
    },
    {
      "cell_type": "code",
      "metadata": {
        "id": "V37G_LmF_QPB"
      },
      "source": [
        "#print(grid_clf.cv_results_.keys())\n",
        "\n",
        "classifier = grid_clf_imported.best_estimator_\n",
        "params = grid_clf_imported.best_params_\n",
        "scores = grid_clf_imported.cv_results_['mean_test_score']"
      ],
      "execution_count": 136,
      "outputs": []
    },
    {
      "cell_type": "code",
      "metadata": {
        "id": "lmt5dOV_rfhQ",
        "scrolled": true,
        "outputId": "cfcfdaf4-46a8-40e8-a799-0d997ce3ed0c",
        "colab": {
          "base_uri": "https://localhost:8080/",
          "height": 286
        }
      },
      "source": [
        "plt.plot(scores)"
      ],
      "execution_count": 137,
      "outputs": [
        {
          "output_type": "execute_result",
          "data": {
            "text/plain": [
              "[<matplotlib.lines.Line2D at 0x7fe701106be0>]"
            ]
          },
          "metadata": {
            "tags": []
          },
          "execution_count": 137
        },
        {
          "output_type": "display_data",
          "data": {
            "image/png": "[encoded data removed]",
            "text/plain": [
              "<Figure size 432x288 with 1 Axes>"
            ]
          },
          "metadata": {
            "tags": [],
            "needs_background": "light"
          }
        }
      ]
    },
    {
      "cell_type": "code",
      "metadata": {
        "id": "F8WUp4CYNKmd",
        "tags": [],
        "outputId": "6716fdb5-0341-4bc9-8c52-9ccf9d0ee906",
        "colab": {
          "base_uri": "https://localhost:8080/",
          "height": 316
        }
      },
      "source": [
        "print(\"Best performing classifier:\\n\" + str(classifier))\n",
        "print(\"\\nBest parameters:\\n\" + str(params))\n",
        "print(\"\\nAll test scores:\\n\" + str(scores))"
      ],
      "execution_count": 138,
      "outputs": [
        {
          "output_type": "stream",
          "text": [
            "Best performing classifier:\n",
            "SVC(C=50, break_ties=False, cache_size=1000, class_weight=None, coef0=0.0,\n",
            "    decision_function_shape='ovr', degree=3, gamma=0.01, kernel='rbf',\n",
            "    max_iter=-1, probability=False, random_state=None, shrinking=True,\n",
            "    tol=0.001, verbose=False)\n",
            "\n",
            "Best parameters:\n",
            "{'C': 50, 'gamma': 0.01, 'kernel': 'rbf'}\n",
            "\n",
            "All test scores:\n",
            "[0.55932651 0.95579592 0.19553059 0.1125102  0.91991842 0.97334695\n",
            " 0.35477557 0.1125102  0.95091837 0.98218367 0.38485717 0.1125102\n",
            " 0.96085716 0.98257143 0.38485717 0.1125102  0.96330613 0.98238776\n",
            " 0.38485717 0.1125102 ]\n"
          ],
          "name": "stdout"
        }
      ]
    },
    {
      "cell_type": "code",
      "metadata": {
        "id": "O08OIwD1B1HQ"
      },
      "source": [
        "#grid_clf.cv_results_"
      ],
      "execution_count": 139,
      "outputs": []
    },
    {
      "cell_type": "code",
      "metadata": {
        "id": "tow4TA4LS_zX"
      },
      "source": [
        "#predicted = grid_clf.predict(data[\"test\"][\"X\"])\n",
        "#print(\"Confusion matrix:\\n%s\" % metrics.confusion_matrix(data[\"test\"][\"Y\"], predicted))\n",
        "#print(\"Accuracy: %0.4f\" % metrics.accuracy_score(data[\"test\"][\"Y\"], predicted))\n"
      ],
      "execution_count": 140,
      "outputs": []
    },
    {
      "cell_type": "code",
      "metadata": {
        "id": "E54eBJhYhZCt"
      },
      "source": [
        "#print(sklearn.metrics.matthews_corrcoef(y_pred, data[\"test\"][\"Y\"]))"
      ],
      "execution_count": 141,
      "outputs": []
    },
    {
      "cell_type": "code",
      "metadata": {
        "id": "dQUJrDJajt_X"
      },
      "source": [
        "params_df = pd.concat([pd.DataFrame(grid_clf_imported.cv_results_[\"params\"]),pd.DataFrame(grid_clf_imported.cv_results_[\"mean_test_score\"], columns=[\"Accuracy\"])],axis=1)"
      ],
      "execution_count": 142,
      "outputs": []
    },
    {
      "cell_type": "code",
      "metadata": {
        "id": "AS1atSHWOBHY",
        "outputId": "b797e4ea-4fba-4f42-f072-e9f1c41b2119",
        "colab": {
          "base_uri": "https://localhost:8080/",
          "height": 677
        }
      },
      "source": [
        "params_df"
      ],
      "execution_count": 143,
      "outputs": [
        {
          "output_type": "execute_result",
          "data": {
            "text/html": [
              "<div>\n",
              "<style scoped>\n",
              "    .dataframe tbody tr th:only-of-type {\n",
              "        vertical-align: middle;\n",
              "    }\n",
              "\n",
              "    .dataframe tbody tr th {\n",
              "        vertical-align: top;\n",
              "    }\n",
              "\n",
              "    .dataframe thead th {\n",
              "        text-align: right;\n",
              "    }\n",
              "</style>\n",
              "<table border=\"1\" class=\"dataframe\">\n",
              "  <thead>\n",
              "    <tr style=\"text-align: right;\">\n",
              "      <th></th>\n",
              "      <th>C</th>\n",
              "      <th>gamma</th>\n",
              "      <th>kernel</th>\n",
              "      <th>Accuracy</th>\n",
              "    </tr>\n",
              "  </thead>\n",
              "  <tbody>\n",
              "    <tr>\n",
              "      <th>0</th>\n",
              "      <td>0.1</td>\n",
              "      <td>0.0001</td>\n",
              "      <td>rbf</td>\n",
              "      <td>0.559327</td>\n",
              "    </tr>\n",
              "    <tr>\n",
              "      <th>1</th>\n",
              "      <td>0.1</td>\n",
              "      <td>0.0100</td>\n",
              "      <td>rbf</td>\n",
              "      <td>0.955796</td>\n",
              "    </tr>\n",
              "    <tr>\n",
              "      <th>2</th>\n",
              "      <td>0.1</td>\n",
              "      <td>1.0000</td>\n",
              "      <td>rbf</td>\n",
              "      <td>0.195531</td>\n",
              "    </tr>\n",
              "    <tr>\n",
              "      <th>3</th>\n",
              "      <td>0.1</td>\n",
              "      <td>10.0000</td>\n",
              "      <td>rbf</td>\n",
              "      <td>0.112510</td>\n",
              "    </tr>\n",
              "    <tr>\n",
              "      <th>4</th>\n",
              "      <td>1.0</td>\n",
              "      <td>0.0001</td>\n",
              "      <td>rbf</td>\n",
              "      <td>0.919918</td>\n",
              "    </tr>\n",
              "    <tr>\n",
              "      <th>5</th>\n",
              "      <td>1.0</td>\n",
              "      <td>0.0100</td>\n",
              "      <td>rbf</td>\n",
              "      <td>0.973347</td>\n",
              "    </tr>\n",
              "    <tr>\n",
              "      <th>6</th>\n",
              "      <td>1.0</td>\n",
              "      <td>1.0000</td>\n",
              "      <td>rbf</td>\n",
              "      <td>0.354776</td>\n",
              "    </tr>\n",
              "    <tr>\n",
              "      <th>7</th>\n",
              "      <td>1.0</td>\n",
              "      <td>10.0000</td>\n",
              "      <td>rbf</td>\n",
              "      <td>0.112510</td>\n",
              "    </tr>\n",
              "    <tr>\n",
              "      <th>8</th>\n",
              "      <td>10.0</td>\n",
              "      <td>0.0001</td>\n",
              "      <td>rbf</td>\n",
              "      <td>0.950918</td>\n",
              "    </tr>\n",
              "    <tr>\n",
              "      <th>9</th>\n",
              "      <td>10.0</td>\n",
              "      <td>0.0100</td>\n",
              "      <td>rbf</td>\n",
              "      <td>0.982184</td>\n",
              "    </tr>\n",
              "    <tr>\n",
              "      <th>10</th>\n",
              "      <td>10.0</td>\n",
              "      <td>1.0000</td>\n",
              "      <td>rbf</td>\n",
              "      <td>0.384857</td>\n",
              "    </tr>\n",
              "    <tr>\n",
              "      <th>11</th>\n",
              "      <td>10.0</td>\n",
              "      <td>10.0000</td>\n",
              "      <td>rbf</td>\n",
              "      <td>0.112510</td>\n",
              "    </tr>\n",
              "    <tr>\n",
              "      <th>12</th>\n",
              "      <td>50.0</td>\n",
              "      <td>0.0001</td>\n",
              "      <td>rbf</td>\n",
              "      <td>0.960857</td>\n",
              "    </tr>\n",
              "    <tr>\n",
              "      <th>13</th>\n",
              "      <td>50.0</td>\n",
              "      <td>0.0100</td>\n",
              "      <td>rbf</td>\n",
              "      <td>0.982571</td>\n",
              "    </tr>\n",
              "    <tr>\n",
              "      <th>14</th>\n",
              "      <td>50.0</td>\n",
              "      <td>1.0000</td>\n",
              "      <td>rbf</td>\n",
              "      <td>0.384857</td>\n",
              "    </tr>\n",
              "    <tr>\n",
              "      <th>15</th>\n",
              "      <td>50.0</td>\n",
              "      <td>10.0000</td>\n",
              "      <td>rbf</td>\n",
              "      <td>0.112510</td>\n",
              "    </tr>\n",
              "    <tr>\n",
              "      <th>16</th>\n",
              "      <td>100.0</td>\n",
              "      <td>0.0001</td>\n",
              "      <td>rbf</td>\n",
              "      <td>0.963306</td>\n",
              "    </tr>\n",
              "    <tr>\n",
              "      <th>17</th>\n",
              "      <td>100.0</td>\n",
              "      <td>0.0100</td>\n",
              "      <td>rbf</td>\n",
              "      <td>0.982388</td>\n",
              "    </tr>\n",
              "    <tr>\n",
              "      <th>18</th>\n",
              "      <td>100.0</td>\n",
              "      <td>1.0000</td>\n",
              "      <td>rbf</td>\n",
              "      <td>0.384857</td>\n",
              "    </tr>\n",
              "    <tr>\n",
              "      <th>19</th>\n",
              "      <td>100.0</td>\n",
              "      <td>10.0000</td>\n",
              "      <td>rbf</td>\n",
              "      <td>0.112510</td>\n",
              "    </tr>\n",
              "  </tbody>\n",
              "</table>\n",
              "</div>"
            ],
            "text/plain": [
              "        C    gamma kernel  Accuracy\n",
              "0     0.1   0.0001    rbf  0.559327\n",
              "1     0.1   0.0100    rbf  0.955796\n",
              "2     0.1   1.0000    rbf  0.195531\n",
              "3     0.1  10.0000    rbf  0.112510\n",
              "4     1.0   0.0001    rbf  0.919918\n",
              "5     1.0   0.0100    rbf  0.973347\n",
              "6     1.0   1.0000    rbf  0.354776\n",
              "7     1.0  10.0000    rbf  0.112510\n",
              "8    10.0   0.0001    rbf  0.950918\n",
              "9    10.0   0.0100    rbf  0.982184\n",
              "10   10.0   1.0000    rbf  0.384857\n",
              "11   10.0  10.0000    rbf  0.112510\n",
              "12   50.0   0.0001    rbf  0.960857\n",
              "13   50.0   0.0100    rbf  0.982571\n",
              "14   50.0   1.0000    rbf  0.384857\n",
              "15   50.0  10.0000    rbf  0.112510\n",
              "16  100.0   0.0001    rbf  0.963306\n",
              "17  100.0   0.0100    rbf  0.982388\n",
              "18  100.0   1.0000    rbf  0.384857\n",
              "19  100.0  10.0000    rbf  0.112510"
            ]
          },
          "metadata": {
            "tags": []
          },
          "execution_count": 143
        }
      ]
    },
    {
      "cell_type": "code",
      "metadata": {
        "id": "5WYbCuI2OQAE",
        "tags": [],
        "outputId": "2f21dae1-605c-4c0f-c68f-5a4834f0695d",
        "colab": {
          "base_uri": "https://localhost:8080/",
          "height": 102
        }
      },
      "source": [
        "print(\"Best parameters set found on development set:\")\n",
        "print()\n",
        "print(grid_clf_imported.best_params_)\n",
        "print()"
      ],
      "execution_count": 144,
      "outputs": [
        {
          "output_type": "stream",
          "text": [
            "Best parameters set found on development set:\n",
            "\n",
            "{'C': 50, 'gamma': 0.01, 'kernel': 'rbf'}\n",
            "\n"
          ],
          "name": "stdout"
        }
      ]
    },
    {
      "cell_type": "code",
      "metadata": {
        "id": "n9ORPu18iiO7",
        "tags": [],
        "outputId": "55548a00-c9ca-44ce-9d88-4de380f1c8a2",
        "colab": {
          "base_uri": "https://localhost:8080/",
          "height": 444
        }
      },
      "source": [
        "means = grid_clf_imported.cv_results_['mean_test_score']\n",
        "stds = grid_clf_imported.cv_results_['std_test_score']\n",
        "for mean, std, params in zip(means, stds, grid_clf_imported.cv_results_['params']):\n",
        "  print(\"%0.3f (+/-%0.03f) with %r\" % (mean, std * 2, params))"
      ],
      "execution_count": 145,
      "outputs": [
        {
          "output_type": "stream",
          "text": [
            "0.559 (+/-0.002) with {'C': 0.1, 'gamma': 0.0001, 'kernel': 'rbf'}\n",
            "0.956 (+/-0.002) with {'C': 0.1, 'gamma': 0.01, 'kernel': 'rbf'}\n",
            "0.196 (+/-0.002) with {'C': 0.1, 'gamma': 1.0, 'kernel': 'rbf'}\n",
            "0.113 (+/-0.000) with {'C': 0.1, 'gamma': 10, 'kernel': 'rbf'}\n",
            "0.920 (+/-0.004) with {'C': 1, 'gamma': 0.0001, 'kernel': 'rbf'}\n",
            "0.973 (+/-0.001) with {'C': 1, 'gamma': 0.01, 'kernel': 'rbf'}\n",
            "0.355 (+/-0.004) with {'C': 1, 'gamma': 1.0, 'kernel': 'rbf'}\n",
            "0.113 (+/-0.000) with {'C': 1, 'gamma': 10, 'kernel': 'rbf'}\n",
            "0.951 (+/-0.003) with {'C': 10, 'gamma': 0.0001, 'kernel': 'rbf'}\n",
            "0.982 (+/-0.000) with {'C': 10, 'gamma': 0.01, 'kernel': 'rbf'}\n",
            "0.385 (+/-0.003) with {'C': 10, 'gamma': 1.0, 'kernel': 'rbf'}\n",
            "0.113 (+/-0.000) with {'C': 10, 'gamma': 10, 'kernel': 'rbf'}\n",
            "0.961 (+/-0.002) with {'C': 50, 'gamma': 0.0001, 'kernel': 'rbf'}\n",
            "0.983 (+/-0.000) with {'C': 50, 'gamma': 0.01, 'kernel': 'rbf'}\n",
            "0.385 (+/-0.003) with {'C': 50, 'gamma': 1.0, 'kernel': 'rbf'}\n",
            "0.113 (+/-0.000) with {'C': 50, 'gamma': 10, 'kernel': 'rbf'}\n",
            "0.963 (+/-0.002) with {'C': 100, 'gamma': 0.0001, 'kernel': 'rbf'}\n",
            "0.982 (+/-0.000) with {'C': 100, 'gamma': 0.01, 'kernel': 'rbf'}\n",
            "0.385 (+/-0.003) with {'C': 100, 'gamma': 1.0, 'kernel': 'rbf'}\n",
            "0.113 (+/-0.000) with {'C': 100, 'gamma': 10, 'kernel': 'rbf'}\n"
          ],
          "name": "stdout"
        }
      ]
    },
    {
      "cell_type": "code",
      "metadata": {
        "id": "0e2HbaLQU2Sj",
        "outputId": "b4a7f16f-046d-4b73-d93d-2e29278d8447",
        "colab": {
          "base_uri": "https://localhost:8080/",
          "height": 102
        }
      },
      "source": [
        "# best parameters: {'C': 50, 'gamma': 0.01, 'kernel': 'rbf'}\n",
        "mnist_classifier = SVC(probability=False, kernel=\"rbf\", C=50, gamma=0.01)\n",
        "mnist_classifier.fit(data[\"train\"][\"X\"][:samplesize], data[\"train\"][\"Y\"][:samplesize])"
      ],
      "execution_count": 146,
      "outputs": [
        {
          "output_type": "execute_result",
          "data": {
            "text/plain": [
              "SVC(C=50, break_ties=False, cache_size=200, class_weight=None, coef0=0.0,\n",
              "    decision_function_shape='ovr', degree=3, gamma=0.01, kernel='rbf',\n",
              "    max_iter=-1, probability=False, random_state=None, shrinking=True,\n",
              "    tol=0.001, verbose=False)"
            ]
          },
          "metadata": {
            "tags": []
          },
          "execution_count": 146
        }
      ]
    },
    {
      "cell_type": "code",
      "metadata": {
        "id": "AoJ0HUECmQ0D",
        "tags": [],
        "outputId": "a332bf47-8480-4a81-9fbc-ceffd3afe399",
        "colab": {
          "base_uri": "https://localhost:8080/",
          "height": 449
        }
      },
      "source": [
        "predicted = mnist_classifier.predict(data[\"test\"][\"X\"])\n",
        "df_cm = pd.DataFrame(metrics.confusion_matrix(data[\"test\"][\"Y\"], predicted))\n",
        "plt.figure(figsize = (10,7))\n",
        "sns.heatmap(df_cm, annot=True, cmap=\"YlOrRd\", fmt=\"d\")\n",
        "print(\"Accuracy: %0.4f\" % metrics.accuracy_score(data[\"test\"][\"Y\"], predicted))"
      ],
      "execution_count": 147,
      "outputs": [
        {
          "output_type": "stream",
          "text": [
            "Accuracy: 0.9854\n"
          ],
          "name": "stdout"
        },
        {
          "output_type": "display_data",
          "data": {
            "image/png": "[encoded data removed]",
            "text/plain": [
              "<Figure size 720x504 with 2 Axes>"
            ]
          },
          "metadata": {
            "tags": [],
            "needs_background": "light"
          }
        }
      ]
    },
    {
      "cell_type": "code",
      "metadata": {
        "id": "7UMrQ8GQwpzl",
        "tags": [],
        "outputId": "490677ec-00f5-4152-f87a-c2879210bfd8",
        "colab": {
          "base_uri": "https://localhost:8080/",
          "height": 273
        }
      },
      "source": [
        "predicted = mnist_classifier.predict(data[\"test\"][\"X\"])\n",
        "print(\"Confusion matrix:\\n%s\" % metrics.confusion_matrix(data[\"test\"][\"Y\"], predicted))\n",
        "print(\"Accuracy: %0.4f\" % metrics.accuracy_score(data[\"test\"][\"Y\"], predicted))\n",
        "\n",
        "# try_id = 1\n",
        "#out = clf.predict(data[\"test\"][\"X\"][try_id])  # clf.predict_proba\n",
        "#print(\"out: %s\" % out)\n",
        "#size = int(len(data[\"test\"][\"X\"][try_id]) ** (0.5))\n",
        "#view_image(\n",
        "#    data[\"test\"][\"X\"][try_id].reshape((size, size)), data[\"test\"][\"y\"][try_id]\n",
        "#)'''"
      ],
      "execution_count": 148,
      "outputs": [
        {
          "output_type": "stream",
          "text": [
            "Confusion matrix:\n",
            "[[1335    0    4    1    0    1    1    0    1    0]\n",
            " [   0 1588    4    0    2    0    0    3    1    2]\n",
            " [   2    4 1356    3    2    2    0    4    6    1]\n",
            " [   0    2    9 1410    0    3    0    0    4    5]\n",
            " [   0    1    4    0 1273    0    1    2    1   13]\n",
            " [   0    0    1    7    0 1256    5    1    2    1]\n",
            " [   2    0    1    1    4    4 1384    0    0    0]\n",
            " [   1    1    8    0    3    2    0 1482    1    5]\n",
            " [   1    2    6    7    1    3    3    3 1325    6]\n",
            " [   4    0    2    6    9    3    0    6    4 1386]]\n",
            "Accuracy: 0.9854\n"
          ],
          "name": "stdout"
        }
      ]
    },
    {
      "cell_type": "code",
      "metadata": {
        "id": "RLcxHvOVYmce",
        "outputId": "fa9ea2b4-b466-4118-e3eb-b97186ad6c50",
        "colab": {
          "base_uri": "https://localhost:8080/",
          "height": 38
        }
      },
      "source": [
        "metrics.matthews_corrcoef(data[\"test\"][\"Y\"], predicted)\n"
      ],
      "execution_count": 149,
      "outputs": [
        {
          "output_type": "execute_result",
          "data": {
            "text/plain": [
              "0.9837234739031891"
            ]
          },
          "metadata": {
            "tags": []
          },
          "execution_count": 149
        }
      ]
    },
    {
      "cell_type": "code",
      "metadata": {
        "id": "PSuq82kBbQMZ",
        "tags": [],
        "outputId": "ead20486-d8a6-4450-d0e1-794918699d09",
        "colab": {
          "base_uri": "https://localhost:8080/",
          "height": 380
        }
      },
      "source": [
        "print(metrics.classification_report(data[\"test\"][\"Y\"], predicted))"
      ],
      "execution_count": 150,
      "outputs": [
        {
          "output_type": "stream",
          "text": [
            "              precision    recall  f1-score   support\n",
            "\n",
            "           0       0.99      0.99      0.99      1343\n",
            "           1       0.99      0.99      0.99      1600\n",
            "           2       0.97      0.98      0.98      1380\n",
            "           3       0.98      0.98      0.98      1433\n",
            "           4       0.98      0.98      0.98      1295\n",
            "           5       0.99      0.99      0.99      1273\n",
            "           6       0.99      0.99      0.99      1396\n",
            "           7       0.99      0.99      0.99      1503\n",
            "           8       0.99      0.98      0.98      1357\n",
            "           9       0.98      0.98      0.98      1420\n",
            "\n",
            "    accuracy                           0.99     14000\n",
            "   macro avg       0.99      0.99      0.99     14000\n",
            "weighted avg       0.99      0.99      0.99     14000\n",
            "\n"
          ],
          "name": "stdout"
        }
      ]
    },
    {
      "cell_type": "markdown",
      "metadata": {
        "id": "79ykHczvXdsl"
      },
      "source": [
        "| Kernel| C | Gamma | Accuracy | MCC |\n",
        "|---|---|---|---|---|\n",
        "|RBF| 50 | 0.001 | 0.9718 | 0.9826\n",
        "|RBF| 10 | 0.01 | 0.9844 | 0.9826\n",
        "|RBF| 50 | 0.01 | 0.9851 | 0.9826\n",
        "|RBF| 75 | 0.01 | 0.9848 | 0.9831\n",
        "|RBF| 100 | 0.01 | 0.9849 | 0.9831\n"
      ]
    },
    {
      "cell_type": "code",
      "metadata": {
        "id": "HSHQSTn6cFfJ"
      },
      "source": [
        "#poly_parameters = {'kernel':['poly'], 'degree':[8,9], 'C':C_range, 'gamma': gamma_range}\n",
        "#poly_grid_clf = GridSearchCV(estimator=svm_clf,param_grid=poly_parameters, n_jobs=7, verbose=2)\n",
        "#poly_grid_clf.fit(data[\"train\"][\"X\"][:1000], data[\"train\"][\"Y\"][:1000])\n"
      ],
      "execution_count": 151,
      "outputs": []
    },
    {
      "cell_type": "code",
      "metadata": {
        "id": "nico5_qJihai"
      },
      "source": [
        "#poly_predicted = poly_grid_clf.predict(data[\"test\"][\"X\"])\n",
        "#df_cm = pd.DataFrame(metrics.confusion_matrix(data[\"test\"][\"Y\"], poly_predicted))\n",
        "#plt.figure(figsize = (10,7))\n",
        "#sns.heatmap(df_cm, annot=True, cmap=\"YlOrRd\", fmt=\"d\")\n",
        "#print(\"Accuracy: %0.4f\" % metrics.accuracy_score(data[\"test\"][\"Y\"], poly_predicted))"
      ],
      "execution_count": 152,
      "outputs": []
    },
    {
      "cell_type": "code",
      "metadata": {
        "id": "kj_mkMokj112"
      },
      "source": [
        "#print(poly_grid_clf.best_params_)"
      ],
      "execution_count": 153,
      "outputs": []
    },
    {
      "cell_type": "code",
      "metadata": {
        "id": "lnrfofwis_lI"
      },
      "source": [
        ""
      ],
      "execution_count": 153,
      "outputs": []
    }
  ]
}