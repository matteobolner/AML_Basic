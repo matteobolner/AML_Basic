{
  "nbformat": 4,
  "nbformat_minor": 0,
  "metadata": {
    "colab": {
      "name": "AML",
      "provenance": [],
      "collapsed_sections": [],
      "include_colab_link": true
    },
    "kernelspec": {
      "display_name": "Python 3",
      "language": "python",
      "name": "python3"
    },
    "language_info": {
      "codemirror_mode": {
        "name": "ipython",
        "version": 3
      },
      "file_extension": ".py",
      "mimetype": "text/x-python",
      "name": "python",
      "nbconvert_exporter": "python",
      "pygments_lexer": "ipython3",
      "version": "3.8.6"
    }
  },
  "cells": [
    {
      "cell_type": "markdown",
      "metadata": {
        "id": "view-in-github",
        "colab_type": "text"
      },
      "source": [
        "<a href=\"https://colab.research.google.com/github/matteobolner/AML_Basic/blob/master/AML.ipynb\" target=\"_parent\"><img src=\"https://colab.research.google.com/assets/colab-badge.svg\" alt=\"Open In Colab\"/></a>"
      ]
    },
    {
      "cell_type": "markdown",
      "metadata": {
        "id": "RCSI4c7WzNAx"
      },
      "source": [
        "**LIBRARIES**\n",
        "\n",
        "---\n",
        "\n",
        "\n",
        "\n",
        "\n"
      ]
    },
    {
      "cell_type": "code",
      "metadata": {
        "id": "q74nVTBCXzz5"
      },
      "source": [
        "import scipy as sp\n",
        "import math\n",
        "import matplotlib.pyplot as plt\n",
        "import numpy as np\n",
        "import pandas as pd\n",
        "import seaborn as sns\n",
        "import time\n",
        "import datetime as dt\n",
        "import joblib\n",
        "from urllib.request import urlopen\n",
        "from numpy import set_printoptions\n",
        "from scipy.ndimage import interpolation\n",
        "from sklearn.preprocessing import MinMaxScaler\n",
        "from sklearn.model_selection import train_test_split\n",
        "from sklearn.model_selection import GridSearchCV\n",
        "from sklearn.metrics import classification_report\n",
        "from sklearn import datasets, svm, metrics\n",
        "from sklearn.datasets import fetch_openml\n",
        "from sklearn.svm import SVC"
      ],
      "execution_count": 179,
      "outputs": []
    },
    {
      "cell_type": "markdown",
      "metadata": {
        "id": "gDAIh75FzLon"
      },
      "source": [
        "  \n",
        "\n",
        "**LOADING THE DATASET**\n",
        "\n",
        "---\n",
        "\n",
        "\n"
      ]
    },
    {
      "cell_type": "code",
      "metadata": {
        "id": "0z89hzuJc4g1"
      },
      "source": [
        "X, y = fetch_openml('mnist_784', version=1, return_X_y=True)"
      ],
      "execution_count": 148,
      "outputs": []
    },
    {
      "cell_type": "code",
      "metadata": {
        "id": "8hSmezWWMPiN",
        "outputId": "3a28943d-30aa-48dd-a4b6-7aa900642153",
        "colab": {
          "base_uri": "https://localhost:8080/",
          "height": 286
        }
      },
      "source": [
        "plt.imshow(X[7].reshape(28,28))"
      ],
      "execution_count": 149,
      "outputs": [
        {
          "output_type": "execute_result",
          "data": {
            "text/plain": [
              "<matplotlib.image.AxesImage at 0x7f39a8b8eda0>"
            ]
          },
          "metadata": {
            "tags": []
          },
          "execution_count": 149
        },
        {
          "output_type": "display_data",
          "data": {
            "image/png": "[encoded data removed]",
            "text/plain": [
              "<Figure size 432x288 with 1 Axes>"
            ]
          },
          "metadata": {
            "tags": [],
            "needs_background": "light"
          }
        }
      ]
    },
    {
      "cell_type": "markdown",
      "metadata": {
        "id": "Cz-eqn0Ehpow"
      },
      "source": [
        "**DATA PREPROCESSING**\n",
        "\n",
        "---\n",
        "\n",
        "According to most literature available and the official MNIST website (http://yann.lecun.com/exdb/mnist/), most handwriting classification models based on Support Vector Machines (SVM) benefit from deskewing, that is the straightening of the numbers in the images.    \n",
        "Therefore, all the images in the dataset were processed with deskewing, using the method available at https://fsix.github.io/mnist/Deskewing.html\n",
        "\n",
        "\n",
        "\n",
        "\n",
        "\n",
        "\n"
      ]
    },
    {
      "cell_type": "code",
      "metadata": {
        "id": "71g6xHhufb_w"
      },
      "source": [
        "def moments(image):\n",
        "    c0,c1 = np.mgrid[:image.shape[0],:image.shape[1]] # A trick in numPy to create a mesh grid\n",
        "    totalImage = np.sum(image) #sum of pixels\n",
        "    m0 = np.sum(c0*image)/totalImage #mu_x\n",
        "    m1 = np.sum(c1*image)/totalImage #mu_y\n",
        "    m00 = np.sum((c0-m0)**2*image)/totalImage #var(x)\n",
        "    m11 = np.sum((c1-m1)**2*image)/totalImage #var(y)\n",
        "    m01 = np.sum((c0-m0)*(c1-m1)*image)/totalImage #covariance(x,y)\n",
        "    mu_vector = np.array([m0,m1])\n",
        "    covariance_matrix = np.array([[m00,m01],[m01,m11]])\n",
        "    return mu_vector, covariance_matrix\n",
        "\n",
        "def deskew(image):\n",
        "    c,v = moments(image)\n",
        "    alpha = v[0,1]/v[0,0]\n",
        "    affine = np.array([[1,0],[alpha,1]])\n",
        "    ocenter = np.array(image.shape)/2.0\n",
        "    offset = c-np.dot(affine,ocenter)\n",
        "    return interpolation.affine_transform(image,affine,offset=offset)\n"
      ],
      "execution_count": 150,
      "outputs": []
    },
    {
      "cell_type": "markdown",
      "metadata": {
        "id": "Pb0ytLdq1e8y"
      },
      "source": [
        "The results of deskewing can be appreciated in the images below"
      ]
    },
    {
      "cell_type": "code",
      "metadata": {
        "id": "_8k_3E03fb5g",
        "outputId": "15f64e93-088b-4d53-e6f1-fa689e091553",
        "colab": {
          "base_uri": "https://localhost:8080/",
          "height": 222
        }
      },
      "source": [
        "plt.subplot(1, 2, 1)\n",
        "plt.imshow(X[7].reshape(28,28))\n",
        "\n",
        "newim = deskew(X[7].reshape(28,28))\n",
        "plt.subplot(1, 2, 2)\n",
        "plt.imshow(newim)"
      ],
      "execution_count": 151,
      "outputs": [
        {
          "output_type": "execute_result",
          "data": {
            "text/plain": [
              "<matplotlib.image.AxesImage at 0x7f39a8a23ef0>"
            ]
          },
          "metadata": {
            "tags": []
          },
          "execution_count": 151
        },
        {
          "output_type": "display_data",
          "data": {
            "image/png": "[encoded data removed]",
            "text/plain": [
              "<Figure size 432x288 with 2 Axes>"
            ]
          },
          "metadata": {
            "tags": [],
            "needs_background": "light"
          }
        }
      ]
    },
    {
      "cell_type": "code",
      "metadata": {
        "id": "ETswx9kxfb2J"
      },
      "source": [
        "def deskewAll(X):\n",
        "    currents = []\n",
        "    for i in range(len(X)):\n",
        "        currents.append(deskew(X[i].reshape(28,28)).flatten())\n",
        "    return np.array(currents)\n",
        "\n",
        "X_deskewed = deskewAll(X)"
      ],
      "execution_count": 152,
      "outputs": []
    },
    {
      "cell_type": "markdown",
      "metadata": {
        "id": "paNuV7hAUWGB"
      },
      "source": [
        "Each feature is then transformed by rescaling to a value between 0 and 1"
      ]
    },
    {
      "cell_type": "code",
      "metadata": {
        "id": "UMRuFjPedLh-"
      },
      "source": [
        "scaler = MinMaxScaler(feature_range=(0, 1))\n",
        "rescaledX = scaler.fit_transform(X_deskewed)"
      ],
      "execution_count": 153,
      "outputs": []
    },
    {
      "cell_type": "markdown",
      "metadata": {
        "id": "jfODOe6LWWBR"
      },
      "source": [
        "The dataset is split into training and testing sets, with a test size 15% of the total"
      ]
    },
    {
      "cell_type": "code",
      "metadata": {
        "id": "34WjJO7KIorP"
      },
      "source": [
        "x_train, x_test, y_train, y_test = train_test_split(rescaledX, y, test_size=0.3, random_state=42)\n",
        "data = {\"train\": {\"X\": x_train, \"Y\": y_train}, \"test\": {\"X\": x_test, \"Y\": y_test},}"
      ],
      "execution_count": 154,
      "outputs": []
    },
    {
      "cell_type": "code",
      "metadata": {
        "id": "7RnrUDTcOCpf"
      },
      "source": [
        "samplesize = len(data[\"train\"][\"X\"])"
      ],
      "execution_count": 155,
      "outputs": []
    },
    {
      "cell_type": "markdown",
      "metadata": {
        "id": "e2ceecUoWuhk"
      },
      "source": [
        "**PARAMETER TUNING**\n",
        "\n",
        "\n",
        "---\n",
        "\n",
        "The main parameters considered in the tuning of the model are:\n",
        "\n",
        "\n",
        "*   **C** -> Regularization parameter\n",
        "*   **kernel** -> kernel type used in the algorithm\n",
        "*   **gamma** -> kernel coefficient\n",
        "\n",
        "The only kernel considered for now is the RBF (or Gaussian) kernel; the C and gamma parameters will be selected with the grid search method."
      ]
    },
    {
      "cell_type": "code",
      "metadata": {
        "id": "ulo8OVLM7kaW"
      },
      "source": [
        "gamma_range = [0.0001, 0.01, 1.0, 5]\n",
        "C_range = [0.001, 0.1, 10, 50, 100]\n",
        "parameters = {'kernel':['rbf'], 'C':C_range, 'gamma': gamma_range}"
      ],
      "execution_count": 156,
      "outputs": []
    },
    {
      "cell_type": "code",
      "metadata": {
        "id": "oxUhdsRA-uK_",
        "outputId": "67bbe05f-6567-44fa-d4e2-3d29e5503d10",
        "colab": {
          "base_uri": "https://localhost:8080/",
          "height": 38
        }
      },
      "source": [
        "gamma_range"
      ],
      "execution_count": 157,
      "outputs": [
        {
          "output_type": "execute_result",
          "data": {
            "text/plain": [
              "[0.0001, 0.01, 1.0, 5]"
            ]
          },
          "metadata": {
            "tags": []
          },
          "execution_count": 157
        }
      ]
    },
    {
      "cell_type": "code",
      "metadata": {
        "id": "9OqZMWDc-vNT",
        "outputId": "97c5be9a-3d06-4872-99aa-eed2fe566eb1",
        "colab": {
          "base_uri": "https://localhost:8080/",
          "height": 38
        }
      },
      "source": [
        "C_range"
      ],
      "execution_count": 158,
      "outputs": [
        {
          "output_type": "execute_result",
          "data": {
            "text/plain": [
              "[0.001, 0.1, 10, 50, 100]"
            ]
          },
          "metadata": {
            "tags": []
          },
          "execution_count": 158
        }
      ]
    },
    {
      "cell_type": "code",
      "metadata": {
        "id": "chKGR8n--8xS"
      },
      "source": [
        "svm_clf = svm.SVC()\n",
        "grid_clf = GridSearchCV(estimator=svm_clf,param_grid=parameters, cv = 3, n_jobs=7, verbose=10)"
      ],
      "execution_count": 159,
      "outputs": []
    },
    {
      "cell_type": "code",
      "metadata": {
        "id": "lQZyzYxu_Gls",
        "tags": [],
        "outputId": "df115f51-1835-4d5d-b9ce-c9bfc92c8821",
        "colab": {
          "base_uri": "https://localhost:8080/",
          "height": 38
        }
      },
      "source": [
        "start_time = dt.datetime.now()\n",
        "print('Start param searching at {}'.format(str(start_time)))"
      ],
      "execution_count": 160,
      "outputs": [
        {
          "output_type": "stream",
          "text": [
            "Start param searching at 2020-10-09 13:37:27.039921\n"
          ],
          "name": "stdout"
        }
      ]
    },
    {
      "cell_type": "code",
      "metadata": {
        "id": "vQbDYOzs_I9X",
        "tags": []
      },
      "source": [
        "#grid_clf.fit(data[\"train\"][\"X\"][:samplesize], data[\"train\"][\"Y\"][:samplesize])"
      ],
      "execution_count": 161,
      "outputs": []
    },
    {
      "cell_type": "code",
      "metadata": {
        "id": "LUcBeh1Q_P3F",
        "scrolled": true,
        "tags": [],
        "outputId": "e8dd387a-09eb-432d-ae2f-fbd5779a8d92",
        "colab": {
          "base_uri": "https://localhost:8080/",
          "height": 38
        }
      },
      "source": [
        "elapsed_time= dt.datetime.now() - start_time\n",
        "print('Elapsed time, param searching {}'.format(str(elapsed_time)))"
      ],
      "execution_count": 162,
      "outputs": [
        {
          "output_type": "stream",
          "text": [
            "Elapsed time, param searching 0:00:00.019390\n"
          ],
          "name": "stdout"
        }
      ]
    },
    {
      "cell_type": "code",
      "metadata": {
        "id": "l71w9xAYa3vb",
        "outputId": "94646be0-7dc9-409b-9c43-0c23193b0232",
        "colab": {
          "base_uri": "https://localhost:8080/",
          "height": 122
        }
      },
      "source": [
        "grid_clf = joblib.load(urlopen('https://github.com/matteobolner/AML_Basic/blob/master/grid_clf.pkl?raw=true'))"
      ],
      "execution_count": 163,
      "outputs": [
        {
          "output_type": "stream",
          "text": [
            "/usr/local/lib/python3.6/dist-packages/sklearn/base.py:318: UserWarning: Trying to unpickle estimator SVC from version 0.23.2 when using version 0.22.2.post1. This might lead to breaking code or invalid results. Use at your own risk.\n",
            "  UserWarning)\n",
            "/usr/local/lib/python3.6/dist-packages/sklearn/base.py:318: UserWarning: Trying to unpickle estimator GridSearchCV from version 0.23.2 when using version 0.22.2.post1. This might lead to breaking code or invalid results. Use at your own risk.\n",
            "  UserWarning)\n"
          ],
          "name": "stderr"
        }
      ]
    },
    {
      "cell_type": "code",
      "metadata": {
        "id": "z2tE0wUdXdrE",
        "outputId": "db0a7cd3-e31c-463b-a72b-c225662b7eb1",
        "colab": {
          "base_uri": "https://localhost:8080/",
          "height": 273
        }
      },
      "source": [
        "grid_clf"
      ],
      "execution_count": 164,
      "outputs": [
        {
          "output_type": "execute_result",
          "data": {
            "text/plain": [
              "GridSearchCV(cv=3, error_score=nan,\n",
              "             estimator=SVC(C=1.0, break_ties=False, cache_size=1000,\n",
              "                           class_weight=None, coef0=0.0,\n",
              "                           decision_function_shape='ovr', degree=3,\n",
              "                           gamma='scale', kernel='rbf', max_iter=-1,\n",
              "                           probability=False, random_state=None, shrinking=True,\n",
              "                           tol=0.001, verbose=False),\n",
              "             iid='deprecated', n_jobs=7,\n",
              "             param_grid={'C': [0.1, 1, 10, 50, 100],\n",
              "                         'gamma': [0.0001, 0.01, 1.0, 10], 'kernel': ['rbf']},\n",
              "             pre_dispatch='2*n_jobs', refit=True, return_train_score=False,\n",
              "             scoring=None, verbose=10)"
            ]
          },
          "metadata": {
            "tags": []
          },
          "execution_count": 164
        }
      ]
    },
    {
      "cell_type": "code",
      "metadata": {
        "id": "V37G_LmF_QPB",
        "outputId": "f0248285-155b-4264-c387-30f4b5492bd5",
        "colab": {
          "base_uri": "https://localhost:8080/",
          "height": 58
        }
      },
      "source": [
        "print(grid_clf.cv_results_.keys())\n",
        "\n",
        "classifier = grid_clf.best_estimator_\n",
        "params = grid_clf.best_params_\n",
        "scores = grid_clf.cv_results_['mean_test_score']"
      ],
      "execution_count": 165,
      "outputs": [
        {
          "output_type": "stream",
          "text": [
            "dict_keys(['mean_fit_time', 'std_fit_time', 'mean_score_time', 'std_score_time', 'param_C', 'param_gamma', 'param_kernel', 'params', 'split0_test_score', 'split1_test_score', 'split2_test_score', 'mean_test_score', 'std_test_score', 'rank_test_score'])\n"
          ],
          "name": "stdout"
        }
      ]
    },
    {
      "cell_type": "code",
      "metadata": {
        "id": "F8WUp4CYNKmd",
        "tags": [],
        "outputId": "9c447624-162a-45e7-dd8a-83cfd9f28d47",
        "colab": {
          "base_uri": "https://localhost:8080/",
          "height": 316
        }
      },
      "source": [
        "print(\"Best performing classifier:\\n\" + str(classifier))\n",
        "print(\"\\nBest parameters:\\n\" + str(params))\n",
        "print(\"\\nAll test scores:\\n\" + str(scores))"
      ],
      "execution_count": 166,
      "outputs": [
        {
          "output_type": "stream",
          "text": [
            "Best performing classifier:\n",
            "SVC(C=50, break_ties=False, cache_size=1000, class_weight=None, coef0=0.0,\n",
            "    decision_function_shape='ovr', degree=3, gamma=0.01, kernel='rbf',\n",
            "    max_iter=-1, probability=False, random_state=None, shrinking=True,\n",
            "    tol=0.001, verbose=False)\n",
            "\n",
            "Best parameters:\n",
            "{'C': 50, 'gamma': 0.01, 'kernel': 'rbf'}\n",
            "\n",
            "All test scores:\n",
            "[0.55932651 0.95579592 0.19553059 0.1125102  0.91991842 0.97334695\n",
            " 0.35477557 0.1125102  0.95091837 0.98218367 0.38485717 0.1125102\n",
            " 0.96085716 0.98257143 0.38485717 0.1125102  0.96330613 0.98238776\n",
            " 0.38485717 0.1125102 ]\n"
          ],
          "name": "stdout"
        }
      ]
    },
    {
      "cell_type": "code",
      "metadata": {
        "id": "O08OIwD1B1HQ"
      },
      "source": [
        "#grid_clf.cv_results_"
      ],
      "execution_count": 167,
      "outputs": []
    },
    {
      "cell_type": "code",
      "metadata": {
        "id": "tow4TA4LS_zX"
      },
      "source": [
        "#predicted = grid_clf.predict(data[\"test\"][\"X\"])\n",
        "#print(\"Confusion matrix:\\n%s\" % metrics.confusion_matrix(data[\"test\"][\"Y\"], predicted))\n",
        "#print(\"Accuracy: %0.4f\" % metrics.accuracy_score(data[\"test\"][\"Y\"], predicted))\n"
      ],
      "execution_count": 168,
      "outputs": []
    },
    {
      "cell_type": "code",
      "metadata": {
        "id": "E54eBJhYhZCt"
      },
      "source": [
        "#print(sklearn.metrics.matthews_corrcoef(y_pred, data[\"test\"][\"Y\"]))"
      ],
      "execution_count": 169,
      "outputs": []
    },
    {
      "cell_type": "code",
      "metadata": {
        "id": "dQUJrDJajt_X"
      },
      "source": [
        "params_df = pd.concat([pd.DataFrame(grid_clf.cv_results_[\"params\"]),pd.DataFrame(grid_clf.cv_results_[\"mean_test_score\"], columns=[\"Accuracy\"])],axis=1)"
      ],
      "execution_count": 170,
      "outputs": []
    },
    {
      "cell_type": "code",
      "metadata": {
        "id": "AS1atSHWOBHY",
        "outputId": "c109b5a0-d624-4123-b40c-5d8d2417cde4",
        "colab": {
          "base_uri": "https://localhost:8080/",
          "height": 677
        }
      },
      "source": [
        "params_df"
      ],
      "execution_count": 171,
      "outputs": [
        {
          "output_type": "execute_result",
          "data": {
            "text/html": [
              "<div>\n",
              "<style scoped>\n",
              "    .dataframe tbody tr th:only-of-type {\n",
              "        vertical-align: middle;\n",
              "    }\n",
              "\n",
              "    .dataframe tbody tr th {\n",
              "        vertical-align: top;\n",
              "    }\n",
              "\n",
              "    .dataframe thead th {\n",
              "        text-align: right;\n",
              "    }\n",
              "</style>\n",
              "<table border=\"1\" class=\"dataframe\">\n",
              "  <thead>\n",
              "    <tr style=\"text-align: right;\">\n",
              "      <th></th>\n",
              "      <th>C</th>\n",
              "      <th>gamma</th>\n",
              "      <th>kernel</th>\n",
              "      <th>Accuracy</th>\n",
              "    </tr>\n",
              "  </thead>\n",
              "  <tbody>\n",
              "    <tr>\n",
              "      <th>0</th>\n",
              "      <td>0.1</td>\n",
              "      <td>0.0001</td>\n",
              "      <td>rbf</td>\n",
              "      <td>0.559327</td>\n",
              "    </tr>\n",
              "    <tr>\n",
              "      <th>1</th>\n",
              "      <td>0.1</td>\n",
              "      <td>0.0100</td>\n",
              "      <td>rbf</td>\n",
              "      <td>0.955796</td>\n",
              "    </tr>\n",
              "    <tr>\n",
              "      <th>2</th>\n",
              "      <td>0.1</td>\n",
              "      <td>1.0000</td>\n",
              "      <td>rbf</td>\n",
              "      <td>0.195531</td>\n",
              "    </tr>\n",
              "    <tr>\n",
              "      <th>3</th>\n",
              "      <td>0.1</td>\n",
              "      <td>10.0000</td>\n",
              "      <td>rbf</td>\n",
              "      <td>0.112510</td>\n",
              "    </tr>\n",
              "    <tr>\n",
              "      <th>4</th>\n",
              "      <td>1.0</td>\n",
              "      <td>0.0001</td>\n",
              "      <td>rbf</td>\n",
              "      <td>0.919918</td>\n",
              "    </tr>\n",
              "    <tr>\n",
              "      <th>5</th>\n",
              "      <td>1.0</td>\n",
              "      <td>0.0100</td>\n",
              "      <td>rbf</td>\n",
              "      <td>0.973347</td>\n",
              "    </tr>\n",
              "    <tr>\n",
              "      <th>6</th>\n",
              "      <td>1.0</td>\n",
              "      <td>1.0000</td>\n",
              "      <td>rbf</td>\n",
              "      <td>0.354776</td>\n",
              "    </tr>\n",
              "    <tr>\n",
              "      <th>7</th>\n",
              "      <td>1.0</td>\n",
              "      <td>10.0000</td>\n",
              "      <td>rbf</td>\n",
              "      <td>0.112510</td>\n",
              "    </tr>\n",
              "    <tr>\n",
              "      <th>8</th>\n",
              "      <td>10.0</td>\n",
              "      <td>0.0001</td>\n",
              "      <td>rbf</td>\n",
              "      <td>0.950918</td>\n",
              "    </tr>\n",
              "    <tr>\n",
              "      <th>9</th>\n",
              "      <td>10.0</td>\n",
              "      <td>0.0100</td>\n",
              "      <td>rbf</td>\n",
              "      <td>0.982184</td>\n",
              "    </tr>\n",
              "    <tr>\n",
              "      <th>10</th>\n",
              "      <td>10.0</td>\n",
              "      <td>1.0000</td>\n",
              "      <td>rbf</td>\n",
              "      <td>0.384857</td>\n",
              "    </tr>\n",
              "    <tr>\n",
              "      <th>11</th>\n",
              "      <td>10.0</td>\n",
              "      <td>10.0000</td>\n",
              "      <td>rbf</td>\n",
              "      <td>0.112510</td>\n",
              "    </tr>\n",
              "    <tr>\n",
              "      <th>12</th>\n",
              "      <td>50.0</td>\n",
              "      <td>0.0001</td>\n",
              "      <td>rbf</td>\n",
              "      <td>0.960857</td>\n",
              "    </tr>\n",
              "    <tr>\n",
              "      <th>13</th>\n",
              "      <td>50.0</td>\n",
              "      <td>0.0100</td>\n",
              "      <td>rbf</td>\n",
              "      <td>0.982571</td>\n",
              "    </tr>\n",
              "    <tr>\n",
              "      <th>14</th>\n",
              "      <td>50.0</td>\n",
              "      <td>1.0000</td>\n",
              "      <td>rbf</td>\n",
              "      <td>0.384857</td>\n",
              "    </tr>\n",
              "    <tr>\n",
              "      <th>15</th>\n",
              "      <td>50.0</td>\n",
              "      <td>10.0000</td>\n",
              "      <td>rbf</td>\n",
              "      <td>0.112510</td>\n",
              "    </tr>\n",
              "    <tr>\n",
              "      <th>16</th>\n",
              "      <td>100.0</td>\n",
              "      <td>0.0001</td>\n",
              "      <td>rbf</td>\n",
              "      <td>0.963306</td>\n",
              "    </tr>\n",
              "    <tr>\n",
              "      <th>17</th>\n",
              "      <td>100.0</td>\n",
              "      <td>0.0100</td>\n",
              "      <td>rbf</td>\n",
              "      <td>0.982388</td>\n",
              "    </tr>\n",
              "    <tr>\n",
              "      <th>18</th>\n",
              "      <td>100.0</td>\n",
              "      <td>1.0000</td>\n",
              "      <td>rbf</td>\n",
              "      <td>0.384857</td>\n",
              "    </tr>\n",
              "    <tr>\n",
              "      <th>19</th>\n",
              "      <td>100.0</td>\n",
              "      <td>10.0000</td>\n",
              "      <td>rbf</td>\n",
              "      <td>0.112510</td>\n",
              "    </tr>\n",
              "  </tbody>\n",
              "</table>\n",
              "</div>"
            ],
            "text/plain": [
              "        C    gamma kernel  Accuracy\n",
              "0     0.1   0.0001    rbf  0.559327\n",
              "1     0.1   0.0100    rbf  0.955796\n",
              "2     0.1   1.0000    rbf  0.195531\n",
              "3     0.1  10.0000    rbf  0.112510\n",
              "4     1.0   0.0001    rbf  0.919918\n",
              "5     1.0   0.0100    rbf  0.973347\n",
              "6     1.0   1.0000    rbf  0.354776\n",
              "7     1.0  10.0000    rbf  0.112510\n",
              "8    10.0   0.0001    rbf  0.950918\n",
              "9    10.0   0.0100    rbf  0.982184\n",
              "10   10.0   1.0000    rbf  0.384857\n",
              "11   10.0  10.0000    rbf  0.112510\n",
              "12   50.0   0.0001    rbf  0.960857\n",
              "13   50.0   0.0100    rbf  0.982571\n",
              "14   50.0   1.0000    rbf  0.384857\n",
              "15   50.0  10.0000    rbf  0.112510\n",
              "16  100.0   0.0001    rbf  0.963306\n",
              "17  100.0   0.0100    rbf  0.982388\n",
              "18  100.0   1.0000    rbf  0.384857\n",
              "19  100.0  10.0000    rbf  0.112510"
            ]
          },
          "metadata": {
            "tags": []
          },
          "execution_count": 171
        }
      ]
    },
    {
      "cell_type": "code",
      "metadata": {
        "id": "5WYbCuI2OQAE",
        "tags": [],
        "outputId": "4b294d40-9d34-415e-a7bd-eddd583d5ff1",
        "colab": {
          "base_uri": "https://localhost:8080/",
          "height": 102
        }
      },
      "source": [
        "print(\"Best parameters set found on development set:\")\n",
        "print()\n",
        "print(grid_clf.best_params_)\n",
        "print()"
      ],
      "execution_count": 172,
      "outputs": [
        {
          "output_type": "stream",
          "text": [
            "Best parameters set found on development set:\n",
            "\n",
            "{'C': 50, 'gamma': 0.01, 'kernel': 'rbf'}\n",
            "\n"
          ],
          "name": "stdout"
        }
      ]
    },
    {
      "cell_type": "code",
      "metadata": {
        "id": "n9ORPu18iiO7",
        "tags": [],
        "outputId": "ac0d6a8f-3222-4e70-a083-e2029aaa3923",
        "colab": {
          "base_uri": "https://localhost:8080/",
          "height": 444
        }
      },
      "source": [
        "means = grid_clf.cv_results_['mean_test_score']\n",
        "stds = grid_clf.cv_results_['std_test_score']\n",
        "for mean, std, params in zip(means, stds, grid_clf.cv_results_['params']):\n",
        "  print(\"%0.3f (+/-%0.03f) with %r\" % (mean, std * 2, params))"
      ],
      "execution_count": 173,
      "outputs": [
        {
          "output_type": "stream",
          "text": [
            "0.559 (+/-0.002) with {'C': 0.1, 'gamma': 0.0001, 'kernel': 'rbf'}\n",
            "0.956 (+/-0.002) with {'C': 0.1, 'gamma': 0.01, 'kernel': 'rbf'}\n",
            "0.196 (+/-0.002) with {'C': 0.1, 'gamma': 1.0, 'kernel': 'rbf'}\n",
            "0.113 (+/-0.000) with {'C': 0.1, 'gamma': 10, 'kernel': 'rbf'}\n",
            "0.920 (+/-0.004) with {'C': 1, 'gamma': 0.0001, 'kernel': 'rbf'}\n",
            "0.973 (+/-0.001) with {'C': 1, 'gamma': 0.01, 'kernel': 'rbf'}\n",
            "0.355 (+/-0.004) with {'C': 1, 'gamma': 1.0, 'kernel': 'rbf'}\n",
            "0.113 (+/-0.000) with {'C': 1, 'gamma': 10, 'kernel': 'rbf'}\n",
            "0.951 (+/-0.003) with {'C': 10, 'gamma': 0.0001, 'kernel': 'rbf'}\n",
            "0.982 (+/-0.000) with {'C': 10, 'gamma': 0.01, 'kernel': 'rbf'}\n",
            "0.385 (+/-0.003) with {'C': 10, 'gamma': 1.0, 'kernel': 'rbf'}\n",
            "0.113 (+/-0.000) with {'C': 10, 'gamma': 10, 'kernel': 'rbf'}\n",
            "0.961 (+/-0.002) with {'C': 50, 'gamma': 0.0001, 'kernel': 'rbf'}\n",
            "0.983 (+/-0.000) with {'C': 50, 'gamma': 0.01, 'kernel': 'rbf'}\n",
            "0.385 (+/-0.003) with {'C': 50, 'gamma': 1.0, 'kernel': 'rbf'}\n",
            "0.113 (+/-0.000) with {'C': 50, 'gamma': 10, 'kernel': 'rbf'}\n",
            "0.963 (+/-0.002) with {'C': 100, 'gamma': 0.0001, 'kernel': 'rbf'}\n",
            "0.982 (+/-0.000) with {'C': 100, 'gamma': 0.01, 'kernel': 'rbf'}\n",
            "0.385 (+/-0.003) with {'C': 100, 'gamma': 1.0, 'kernel': 'rbf'}\n",
            "0.113 (+/-0.000) with {'C': 100, 'gamma': 10, 'kernel': 'rbf'}\n"
          ],
          "name": "stdout"
        }
      ]
    },
    {
      "cell_type": "code",
      "metadata": {
        "id": "0e2HbaLQU2Sj",
        "outputId": "9c786e88-d611-4f41-a44c-2153d7621ee5",
        "colab": {
          "base_uri": "https://localhost:8080/",
          "height": 102
        }
      },
      "source": [
        "# best parameters: {'C': 50, 'gamma': 0.01, 'kernel': 'rbf'}\n",
        "mnist_classifier = SVC(probability=False, kernel=\"rbf\", C=50, gamma=0.01)\n",
        "mnist_classifier.fit(data[\"train\"][\"X\"][:samplesize], data[\"train\"][\"Y\"][:samplesize])"
      ],
      "execution_count": 174,
      "outputs": [
        {
          "output_type": "execute_result",
          "data": {
            "text/plain": [
              "SVC(C=50, break_ties=False, cache_size=200, class_weight=None, coef0=0.0,\n",
              "    decision_function_shape='ovr', degree=3, gamma=0.01, kernel='rbf',\n",
              "    max_iter=-1, probability=False, random_state=None, shrinking=True,\n",
              "    tol=0.001, verbose=False)"
            ]
          },
          "metadata": {
            "tags": []
          },
          "execution_count": 174
        }
      ]
    },
    {
      "cell_type": "code",
      "metadata": {
        "id": "AoJ0HUECmQ0D",
        "tags": [],
        "outputId": "155308c1-4b4a-4d55-9e47-26d7c92efcc0",
        "colab": {
          "base_uri": "https://localhost:8080/",
          "height": 449
        }
      },
      "source": [
        "predicted = mnist_classifier.predict(data[\"test\"][\"X\"])\n",
        "df_cm = pd.DataFrame(metrics.confusion_matrix(data[\"test\"][\"Y\"], predicted))\n",
        "plt.figure(figsize = (10,7))\n",
        "sns.heatmap(df_cm, annot=True, cmap=\"YlOrRd\", fmt=\"d\")"
      ],
      "execution_count": 175,
      "outputs": [
        {
          "output_type": "execute_result",
          "data": {
            "text/plain": [
              "<matplotlib.axes._subplots.AxesSubplot at 0x7f39a8c16048>"
            ]
          },
          "metadata": {
            "tags": []
          },
          "execution_count": 175
        },
        {
          "output_type": "display_data",
          "data": {
            "image/png": "[encoded data removed]",
            "text/plain": [
              "<Figure size 720x504 with 2 Axes>"
            ]
          },
          "metadata": {
            "tags": [],
            "needs_background": "light"
          }
        }
      ]
    },
    {
      "cell_type": "code",
      "metadata": {
        "id": "aIRDMdLDcgGp",
        "outputId": "1e9d201e-1bc9-4ed5-aaaa-df791a266779",
        "colab": {
          "base_uri": "https://localhost:8080/",
          "height": 60
        }
      },
      "source": [
        "error_rate = 100*(1 - metrics.accuracy_score(data[\"test\"][\"Y\"], predicted))\n",
        "print(\"Error rate: %0.4f\"%error_rate)\n",
        "print(metrics.accuracy_score(data[\"test\"][\"Y\"], predicted))"
      ],
      "execution_count": 176,
      "outputs": [
        {
          "output_type": "stream",
          "text": [
            "Error rate: 1.4857\n",
            "0.9851428571428571\n"
          ],
          "name": "stdout"
        }
      ]
    },
    {
      "cell_type": "code",
      "metadata": {
        "id": "RLcxHvOVYmce",
        "outputId": "f3a2a512-cbe0-47e7-bf1c-8d19356d57ce",
        "colab": {
          "base_uri": "https://localhost:8080/",
          "height": 38
        }
      },
      "source": [
        "metrics.matthews_corrcoef(data[\"test\"][\"Y\"], predicted)\n"
      ],
      "execution_count": 177,
      "outputs": [
        {
          "output_type": "execute_result",
          "data": {
            "text/plain": [
              "0.9834856625392243"
            ]
          },
          "metadata": {
            "tags": []
          },
          "execution_count": 177
        }
      ]
    },
    {
      "cell_type": "code",
      "metadata": {
        "id": "PSuq82kBbQMZ",
        "tags": [],
        "outputId": "d2591db7-a83b-480e-ffe3-60c68a55deaf",
        "colab": {
          "base_uri": "https://localhost:8080/",
          "height": 380
        }
      },
      "source": [
        "print(metrics.classification_report(data[\"test\"][\"Y\"], predicted))"
      ],
      "execution_count": 178,
      "outputs": [
        {
          "output_type": "stream",
          "text": [
            "              precision    recall  f1-score   support\n",
            "\n",
            "           0       0.99      0.99      0.99      2058\n",
            "           1       0.99      0.99      0.99      2364\n",
            "           2       0.98      0.98      0.98      2133\n",
            "           3       0.98      0.98      0.98      2176\n",
            "           4       0.98      0.99      0.98      1936\n",
            "           5       0.98      0.99      0.99      1915\n",
            "           6       0.99      0.99      0.99      2088\n",
            "           7       0.99      0.99      0.99      2248\n",
            "           8       0.98      0.98      0.98      1992\n",
            "           9       0.98      0.97      0.98      2090\n",
            "\n",
            "    accuracy                           0.99     21000\n",
            "   macro avg       0.99      0.99      0.99     21000\n",
            "weighted avg       0.99      0.99      0.99     21000\n",
            "\n"
          ],
          "name": "stdout"
        }
      ]
    },
    {
      "cell_type": "markdown",
      "metadata": {
        "id": "79ykHczvXdsl"
      },
      "source": [
        "| Kernel| C | Gamma | Accuracy | MCC |\n",
        "|---|---|---|---|---|\n",
        "|RBF| 50 | 0.001 | 0.9718 | 0.9826\n",
        "|RBF| 10 | 0.01 | 0.9844 | 0.9826\n",
        "|RBF| 50 | 0.01 | 0.9851 | 0.9826\n",
        "|RBF| 75 | 0.01 | 0.9848 | 0.9831\n",
        "|RBF| 100 | 0.01 | 0.9849 | 0.9831\n"
      ]
    }
  ]
}