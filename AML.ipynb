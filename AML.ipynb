{
  "nbformat": 4,
  "nbformat_minor": 0,
  "metadata": {
    "colab": {
      "name": "AML",
      "provenance": [],
      "collapsed_sections": [],
      "include_colab_link": true
    },
    "kernelspec": {
      "display_name": "Python 3",
      "language": "python",
      "name": "python3"
    },
    "language_info": {
      "codemirror_mode": {
        "name": "ipython",
        "version": 3
      },
      "file_extension": ".py",
      "mimetype": "text/x-python",
      "name": "python",
      "nbconvert_exporter": "python",
      "pygments_lexer": "ipython3",
      "version": "3.8.6"
    }
  },
  "cells": [
    {
      "cell_type": "markdown",
      "metadata": {
        "id": "view-in-github",
        "colab_type": "text"
      },
      "source": [
        "<a href=\"https://colab.research.google.com/github/matteobolner/AML_Basic/blob/master/AML.ipynb\" target=\"_parent\"><img src=\"https://colab.research.google.com/assets/colab-badge.svg\" alt=\"Open In Colab\"/></a>"
      ]
    },
    {
      "cell_type": "markdown",
      "metadata": {
        "id": "RCSI4c7WzNAx"
      },
      "source": [
        "**LIBRARIES**\n",
        "\n",
        "---\n",
        "\n",
        "\n",
        "\n",
        "\n"
      ]
    },
    {
      "cell_type": "code",
      "metadata": {
        "id": "q74nVTBCXzz5"
      },
      "source": [
        "import scipy as sp\n",
        "import math\n",
        "import matplotlib.pyplot as plt\n",
        "import numpy as np\n",
        "import pandas as pd\n",
        "import seaborn as sns\n",
        "import time\n",
        "import datetime as dt\n",
        "import joblib\n",
        "from urllib.request import urlopen\n",
        "from numpy import set_printoptions\n",
        "from scipy.ndimage import interpolation\n",
        "from sklearn.preprocessing import MinMaxScaler\n",
        "from sklearn.model_selection import train_test_split\n",
        "from sklearn.model_selection import GridSearchCV\n",
        "from sklearn.metrics import classification_report\n",
        "from sklearn import datasets, svm, metrics\n",
        "from sklearn.datasets import fetch_openml\n",
        "from sklearn.svm import SVC"
      ],
      "execution_count": 3,
      "outputs": []
    },
    {
      "cell_type": "markdown",
      "metadata": {
        "id": "gDAIh75FzLon"
      },
      "source": [
        "  \n",
        "\n",
        "**LOADING THE DATASET**\n",
        "\n",
        "---\n",
        "\n",
        "\n"
      ]
    },
    {
      "cell_type": "code",
      "metadata": {
        "id": "0z89hzuJc4g1"
      },
      "source": [
        "X, y = fetch_openml('mnist_784', version=1, return_X_y=True)"
      ],
      "execution_count": 4,
      "outputs": []
    },
    {
      "cell_type": "code",
      "metadata": {
        "id": "8hSmezWWMPiN",
        "outputId": "bcddc71d-efee-404e-c7e3-2bb594442378",
        "colab": {
          "base_uri": "https://localhost:8080/",
          "height": 286
        }
      },
      "source": [
        "plt.imshow(X[7].reshape(28,28))"
      ],
      "execution_count": 5,
      "outputs": [
        {
          "output_type": "execute_result",
          "data": {
            "text/plain": [
              "<matplotlib.image.AxesImage at 0x7f0421b16828>"
            ]
          },
          "metadata": {
            "tags": []
          },
          "execution_count": 5
        },
        {
          "output_type": "display_data",
          "data": {
            "image/png": "[encoded data removed]",
            "text/plain": [
              "<Figure size 432x288 with 1 Axes>"
            ]
          },
          "metadata": {
            "tags": [],
            "needs_background": "light"
          }
        }
      ]
    },
    {
      "cell_type": "markdown",
      "metadata": {
        "id": "Cz-eqn0Ehpow"
      },
      "source": [
        "**DATA PREPROCESSING**\n",
        "\n",
        "---\n",
        "\n",
        "According to most literature available and the official MNIST website (http://yann.lecun.com/exdb/mnist/), most handwriting classification models based on Support Vector Machines (SVM) benefit from deskewing, that is the straightening of the numbers in the images.    \n",
        "Therefore, all the images in the dataset were processed with deskewing, using the method available at https://fsix.github.io/mnist/Deskewing.html\n",
        "\n",
        "\n",
        "\n",
        "\n",
        "\n",
        "\n"
      ]
    },
    {
      "cell_type": "code",
      "metadata": {
        "id": "71g6xHhufb_w"
      },
      "source": [
        "def moments(image):\n",
        "    c0,c1 = np.mgrid[:image.shape[0],:image.shape[1]] # A trick in numPy to create a mesh grid\n",
        "    totalImage = np.sum(image) #sum of pixels\n",
        "    m0 = np.sum(c0*image)/totalImage #mu_x\n",
        "    m1 = np.sum(c1*image)/totalImage #mu_y\n",
        "    m00 = np.sum((c0-m0)**2*image)/totalImage #var(x)\n",
        "    m11 = np.sum((c1-m1)**2*image)/totalImage #var(y)\n",
        "    m01 = np.sum((c0-m0)*(c1-m1)*image)/totalImage #covariance(x,y)\n",
        "    mu_vector = np.array([m0,m1])\n",
        "    covariance_matrix = np.array([[m00,m01],[m01,m11]])\n",
        "    return mu_vector, covariance_matrix\n",
        "\n",
        "def deskew(image):\n",
        "    c,v = moments(image)\n",
        "    alpha = v[0,1]/v[0,0]\n",
        "    affine = np.array([[1,0],[alpha,1]])\n",
        "    ocenter = np.array(image.shape)/2.0\n",
        "    offset = c-np.dot(affine,ocenter)\n",
        "    return interpolation.affine_transform(image,affine,offset=offset)\n"
      ],
      "execution_count": 6,
      "outputs": []
    },
    {
      "cell_type": "markdown",
      "metadata": {
        "id": "Pb0ytLdq1e8y"
      },
      "source": [
        "The results of deskewing can be appreciated in the images below"
      ]
    },
    {
      "cell_type": "code",
      "metadata": {
        "id": "_8k_3E03fb5g",
        "outputId": "2c18cfc6-0b0c-49b2-d4b0-67b272427009",
        "colab": {
          "base_uri": "https://localhost:8080/",
          "height": 222
        }
      },
      "source": [
        "plt.subplot(1, 2, 1)\n",
        "plt.imshow(X[7].reshape(28,28))\n",
        "\n",
        "newim = deskew(X[7].reshape(28,28))\n",
        "plt.subplot(1, 2, 2)\n",
        "plt.imshow(newim)"
      ],
      "execution_count": 7,
      "outputs": [
        {
          "output_type": "execute_result",
          "data": {
            "text/plain": [
              "<matplotlib.image.AxesImage at 0x7f042166ba90>"
            ]
          },
          "metadata": {
            "tags": []
          },
          "execution_count": 7
        },
        {
          "output_type": "display_data",
          "data": {
            "image/png": "[encoded data removed]",
            "text/plain": [
              "<Figure size 432x288 with 2 Axes>"
            ]
          },
          "metadata": {
            "tags": [],
            "needs_background": "light"
          }
        }
      ]
    },
    {
      "cell_type": "code",
      "metadata": {
        "id": "ETswx9kxfb2J"
      },
      "source": [
        "def deskewAll(X):\n",
        "    currents = []\n",
        "    for i in range(len(X)):\n",
        "        currents.append(deskew(X[i].reshape(28,28)).flatten())\n",
        "    return np.array(currents)\n",
        "\n",
        "X_deskewed = deskewAll(X)"
      ],
      "execution_count": 8,
      "outputs": []
    },
    {
      "cell_type": "markdown",
      "metadata": {
        "id": "paNuV7hAUWGB"
      },
      "source": [
        "Each feature is then transformed by rescaling to a value between 0 and 1"
      ]
    },
    {
      "cell_type": "code",
      "metadata": {
        "id": "UMRuFjPedLh-"
      },
      "source": [
        "scaler = MinMaxScaler(feature_range=(0, 1))\n",
        "rescaledX = scaler.fit_transform(X_deskewed)"
      ],
      "execution_count": 9,
      "outputs": []
    },
    {
      "cell_type": "markdown",
      "metadata": {
        "id": "jfODOe6LWWBR"
      },
      "source": [
        "The dataset is split into training and testing sets, with a test size 15% of the total"
      ]
    },
    {
      "cell_type": "code",
      "metadata": {
        "id": "34WjJO7KIorP"
      },
      "source": [
        "x_train, x_test, y_train, y_test = train_test_split(rescaledX, y, test_size=0.3, random_state=42)\n",
        "data = {\"train\": {\"X\": x_train, \"Y\": y_train}, \"test\": {\"X\": x_test, \"Y\": y_test},}"
      ],
      "execution_count": 10,
      "outputs": []
    },
    {
      "cell_type": "code",
      "metadata": {
        "id": "7RnrUDTcOCpf"
      },
      "source": [
        "samplesize = len(data[\"train\"][\"X\"])"
      ],
      "execution_count": 11,
      "outputs": []
    },
    {
      "cell_type": "markdown",
      "metadata": {
        "id": "e2ceecUoWuhk"
      },
      "source": [
        "**PARAMETER TUNING**\n",
        "\n",
        "\n",
        "---\n",
        "\n",
        "The main parameters considered in the tuning of the model are:\n",
        "\n",
        "\n",
        "*   **C** -> Regularization parameter\n",
        "*   **kernel** -> kernel type used in the algorithm\n",
        "*   **gamma** -> kernel coefficient"
      ]
    },
    {
      "cell_type": "code",
      "metadata": {
        "id": "ulo8OVLM7kaW"
      },
      "source": [
        "gamma_range = [0.0001, 0.01, 1.0, 5]\n",
        "C_range = [0.001, 0.1, 10, 50, 100]\n",
        "kernels = ['rbf','poly']\n",
        "degrees = [4,5]\n",
        "parameters_rbf = {'kernel': ['rbf'], 'C':C_range, 'gamma': gamma_range, 'degree': degrees}\n",
        "parameters_poly = {'kernel': ['rbf'], 'C':C_range, 'gamma': gamma_range, 'degree': degrees}\n"
      ],
      "execution_count": 12,
      "outputs": []
    },
    {
      "cell_type": "code",
      "metadata": {
        "id": "chKGR8n--8xS"
      },
      "source": [
        "svm_clf = svm.SVC()\n",
        "grid_clf_rbf = GridSearchCV(estimator=svm_clf,param_grid=parameters_rbf, cv = 3, n_jobs=7, verbose=10)\n",
        "grid_clf_poly= GridSearchCV(estimator=svm_clf,param_grid=parameters_poly, cv = 3, n_jobs=7, verbose=10)"
      ],
      "execution_count": 13,
      "outputs": []
    },
    {
      "cell_type": "markdown",
      "metadata": {
        "id": "cbGU3QUSABEO"
      },
      "source": [
        "Grid search was performed on another machine due to time reasons; the grid classifiers were pickled and imported "
      ]
    },
    {
      "cell_type": "code",
      "metadata": {
        "id": "vQbDYOzs_I9X",
        "tags": []
      },
      "source": [
        "#grid_clf.fit(data[\"train\"][\"X\"][:samplesize], data[\"train\"][\"Y\"][:samplesize])"
      ],
      "execution_count": 14,
      "outputs": []
    },
    {
      "cell_type": "code",
      "metadata": {
        "id": "l71w9xAYa3vb",
        "outputId": "47a2afa4-4c8e-485d-e4e4-1a322d3d877a",
        "colab": {
          "base_uri": "https://localhost:8080/",
          "height": 122
        }
      },
      "source": [
        "grid_clf_rbf = joblib.load(urlopen('https://github.com/matteobolner/AML_Basic/blob/master/grid_clf.pkl?raw=true'))\n",
        "grid_clf_poly = joblib.load(urlopen('https://github.com/matteobolner/AML_Basic/blob/master/grid_clf_poly.pkl?raw=true'))\n"
      ],
      "execution_count": 15,
      "outputs": [
        {
          "output_type": "stream",
          "text": [
            "/usr/local/lib/python3.6/dist-packages/sklearn/base.py:318: UserWarning: Trying to unpickle estimator SVC from version 0.23.2 when using version 0.22.2.post1. This might lead to breaking code or invalid results. Use at your own risk.\n",
            "  UserWarning)\n",
            "/usr/local/lib/python3.6/dist-packages/sklearn/base.py:318: UserWarning: Trying to unpickle estimator GridSearchCV from version 0.23.2 when using version 0.22.2.post1. This might lead to breaking code or invalid results. Use at your own risk.\n",
            "  UserWarning)\n"
          ],
          "name": "stderr"
        }
      ]
    },
    {
      "cell_type": "code",
      "metadata": {
        "id": "z2tE0wUdXdrE",
        "outputId": "54d0251f-0cfb-4a43-b65f-fa7087aa8242",
        "colab": {
          "base_uri": "https://localhost:8080/",
          "height": 273
        }
      },
      "source": [
        "grid_clf_poly\n",
        "#grid_clf_rbf"
      ],
      "execution_count": 16,
      "outputs": [
        {
          "output_type": "execute_result",
          "data": {
            "text/plain": [
              "GridSearchCV(cv=3, error_score=nan,\n",
              "             estimator=SVC(C=1.0, break_ties=False, cache_size=200,\n",
              "                           class_weight=None, coef0=0.0,\n",
              "                           decision_function_shape='ovr', degree=3,\n",
              "                           gamma='scale', kernel='rbf', max_iter=-1,\n",
              "                           probability=False, random_state=None, shrinking=True,\n",
              "                           tol=0.001, verbose=False),\n",
              "             iid='deprecated', n_jobs=7,\n",
              "             param_grid={'C': [0.1, 1, 10, 50, 100], 'degree': [4, 5],\n",
              "                         'gamma': [0.0001, 0.01, 1.0, 10], 'kernel': ['poly']},\n",
              "             pre_dispatch='2*n_jobs', refit=True, return_train_score=False,\n",
              "             scoring=None, verbose=10)"
            ]
          },
          "metadata": {
            "tags": []
          },
          "execution_count": 16
        }
      ]
    },
    {
      "cell_type": "code",
      "metadata": {
        "id": "V37G_LmF_QPB"
      },
      "source": [
        "classifier_rbf = grid_clf_rbf.best_estimator_\n",
        "params_rbf = grid_clf_rbf.best_params_\n",
        "scores_rbf = grid_clf_rbf.cv_results_['mean_test_score']\n",
        "classifier_poly = grid_clf_poly.best_estimator_\n",
        "params_poly = grid_clf_poly.best_params_\n",
        "scores_poly = grid_clf_poly.cv_results_['mean_test_score']"
      ],
      "execution_count": 17,
      "outputs": []
    },
    {
      "cell_type": "code",
      "metadata": {
        "id": "F8WUp4CYNKmd",
        "tags": [],
        "outputId": "7762473d-f7b7-4bdb-f784-e3e929a6514a",
        "colab": {
          "base_uri": "https://localhost:8080/",
          "height": 679
        }
      },
      "source": [
        "print(\"Best performing rbf classifier:\\n\" + str(classifier_rbf))\n",
        "print(\"\\nBest rbf parameters:\\n\" + str(params_rbf))\n",
        "print(\"\\nAll rbf test scores:\\n\" + str(scores_rbf))\n",
        "print(\"Best performing poly classifier:\\n\" + str(classifier_poly))\n",
        "print(\"\\nBest poly parameters:\\n\" + str(params_poly))\n",
        "print(\"\\nAll poly test scores:\\n\" + str(scores_poly))"
      ],
      "execution_count": 18,
      "outputs": [
        {
          "output_type": "stream",
          "text": [
            "Best performing rbf classifier:\n",
            "SVC(C=50, break_ties=False, cache_size=1000, class_weight=None, coef0=0.0,\n",
            "    decision_function_shape='ovr', degree=3, gamma=0.01, kernel='rbf',\n",
            "    max_iter=-1, probability=False, random_state=None, shrinking=True,\n",
            "    tol=0.001, verbose=False)\n",
            "\n",
            "Best rbf parameters:\n",
            "{'C': 50, 'gamma': 0.01, 'kernel': 'rbf'}\n",
            "\n",
            "All rbf test scores:\n",
            "[0.55932651 0.95579592 0.19553059 0.1125102  0.91991842 0.97334695\n",
            " 0.35477557 0.1125102  0.95091837 0.98218367 0.38485717 0.1125102\n",
            " 0.96085716 0.98257143 0.38485717 0.1125102  0.96330613 0.98238776\n",
            " 0.38485717 0.1125102 ]\n",
            "Best performing poly classifier:\n",
            "SVC(C=10, break_ties=False, cache_size=200, class_weight=None, coef0=0.0,\n",
            "    decision_function_shape='ovr', degree=4, gamma=0.01, kernel='poly',\n",
            "    max_iter=-1, probability=False, random_state=None, shrinking=True,\n",
            "    tol=0.001, verbose=False)\n",
            "\n",
            "Best poly parameters:\n",
            "{'C': 10, 'degree': 4, 'gamma': 0.01, 'kernel': 'poly'}\n",
            "\n",
            "All poly test scores:\n",
            "[0.1125102  0.95585716 0.98155101 0.98157142 0.1125102  0.95357145\n",
            " 0.98155101 0.98155101 0.1125102  0.9757143  0.98155101 0.98157142\n",
            " 0.1125102  0.97579593 0.98155101 0.98155101 0.1125102  0.98236734\n",
            " 0.98155101 0.98157142 0.1125102  0.98206121 0.98155101 0.98155101\n",
            " 0.1125102  0.98195917 0.98155101 0.98157142 0.1125102  0.98181632\n",
            " 0.98155101 0.98155101 0.1125102  0.98173468 0.98155101 0.98157142\n",
            " 0.1125102  0.98163264 0.98155101 0.98155101]\n"
          ],
          "name": "stdout"
        }
      ]
    },
    {
      "cell_type": "code",
      "metadata": {
        "id": "O08OIwD1B1HQ"
      },
      "source": [
        "#grid_clf.cv_results_"
      ],
      "execution_count": 19,
      "outputs": []
    },
    {
      "cell_type": "code",
      "metadata": {
        "id": "tow4TA4LS_zX"
      },
      "source": [
        "#predicted = grid_clf.predict(data[\"test\"][\"X\"])\n",
        "#print(\"Confusion matrix:\\n%s\" % metrics.confusion_matrix(data[\"test\"][\"Y\"], predicted))\n",
        "#print(\"Accuracy: %0.4f\" % metrics.accuracy_score(data[\"test\"][\"Y\"], predicted))\n"
      ],
      "execution_count": 20,
      "outputs": []
    },
    {
      "cell_type": "code",
      "metadata": {
        "id": "E54eBJhYhZCt"
      },
      "source": [
        "#print(sklearn.metrics.matthews_corrcoef(y_pred, data[\"test\"][\"Y\"]))"
      ],
      "execution_count": 21,
      "outputs": []
    },
    {
      "cell_type": "code",
      "metadata": {
        "id": "dQUJrDJajt_X"
      },
      "source": [
        "rbf_params_df = pd.concat([pd.DataFrame(grid_clf_rbf.cv_results_[\"params\"]),pd.DataFrame(grid_clf_rbf.cv_results_[\"mean_test_score\"], columns=[\"Accuracy\"])],axis=1)"
      ],
      "execution_count": 22,
      "outputs": []
    },
    {
      "cell_type": "code",
      "metadata": {
        "id": "AS1atSHWOBHY"
      },
      "source": [
        "poly_params_df = pd.concat([pd.DataFrame(grid_clf_poly.cv_results_[\"params\"]),pd.DataFrame(grid_clf_poly.cv_results_[\"mean_test_score\"], columns=[\"Accuracy\"])],axis=1)"
      ],
      "execution_count": 23,
      "outputs": []
    },
    {
      "cell_type": "code",
      "metadata": {
        "id": "5WYbCuI2OQAE",
        "tags": [],
        "outputId": "c23add1f-b421-4d8b-cec1-26ba40276d5a",
        "colab": {
          "base_uri": "https://localhost:8080/",
          "height": 102
        }
      },
      "source": [
        "print(\"Best parameters set found on training sets:\")\n",
        "print()\n",
        "print(grid_clf_rbf.best_params_)\n",
        "print(grid_clf_poly.best_params_)"
      ],
      "execution_count": 24,
      "outputs": [
        {
          "output_type": "stream",
          "text": [
            "Best parameters set found on training sets:\n",
            "\n",
            "{'C': 50, 'gamma': 0.01, 'kernel': 'rbf'}\n",
            "{'C': 10, 'degree': 4, 'gamma': 0.01, 'kernel': 'poly'}\n"
          ],
          "name": "stdout"
        }
      ]
    },
    {
      "cell_type": "code",
      "metadata": {
        "id": "n9ORPu18iiO7",
        "tags": []
      },
      "source": [
        "#means = grid_clf.cv_results_['mean_test_score']\n",
        "#stds = grid_clf.cv_results_['std_test_score']\n",
        "#for mean, std, params in zip(means, stds, grid_clf.cv_results_['params']):\n",
        "#  print(\"%0.3f (+/-%0.03f) with %r\" % (mean, std * 2, params))"
      ],
      "execution_count": 25,
      "outputs": []
    },
    {
      "cell_type": "code",
      "metadata": {
        "id": "0e2HbaLQU2Sj",
        "outputId": "2761d256-6a4d-499b-f864-6399a20a8510",
        "colab": {
          "base_uri": "https://localhost:8080/",
          "height": 102
        }
      },
      "source": [
        "mnist_classifier_rbf = SVC(probability=False, kernel=\"rbf\", C=50, gamma=0.01)\n",
        "mnist_classifier_rbf.fit(data[\"train\"][\"X\"][:samplesize], data[\"train\"][\"Y\"][:samplesize])\n",
        "mnist_classifier_poly = SVC(probability=False, kernel=\"poly\", C=10, gamma=0.01, degree = 4)\n",
        "mnist_classifier_poly.fit(data[\"train\"][\"X\"][:samplesize], data[\"train\"][\"Y\"][:samplesize])\n"
      ],
      "execution_count": 26,
      "outputs": [
        {
          "output_type": "execute_result",
          "data": {
            "text/plain": [
              "SVC(C=10, break_ties=False, cache_size=200, class_weight=None, coef0=0.0,\n",
              "    decision_function_shape='ovr', degree=4, gamma=0.01, kernel='poly',\n",
              "    max_iter=-1, probability=False, random_state=None, shrinking=True,\n",
              "    tol=0.001, verbose=False)"
            ]
          },
          "metadata": {
            "tags": []
          },
          "execution_count": 26
        }
      ]
    },
    {
      "cell_type": "code",
      "metadata": {
        "id": "AoJ0HUECmQ0D",
        "tags": [],
        "outputId": "a9fa6405-3a42-4b4a-c441-3e686d8e857e",
        "colab": {
          "base_uri": "https://localhost:8080/",
          "height": 449
        }
      },
      "source": [
        "predicted_rbf = mnist_classifier_rbf.predict(data[\"test\"][\"X\"])\n",
        "conf_matrix_df_rbf = pd.DataFrame(metrics.confusion_matrix(data[\"test\"][\"Y\"], predicted_rbf))\n",
        "plt.figure(figsize = (10,7))\n",
        "sns.heatmap(conf_matrix_df_rbf, annot=True, cmap=\"YlOrRd\", fmt=\"d\")"
      ],
      "execution_count": 27,
      "outputs": [
        {
          "output_type": "execute_result",
          "data": {
            "text/plain": [
              "<matplotlib.axes._subplots.AxesSubplot at 0x7f042108a710>"
            ]
          },
          "metadata": {
            "tags": []
          },
          "execution_count": 27
        },
        {
          "output_type": "display_data",
          "data": {
            "image/png": "[encoded data removed]",
            "text/plain": [
              "<Figure size 720x504 with 2 Axes>"
            ]
          },
          "metadata": {
            "tags": [],
            "needs_background": "light"
          }
        }
      ]
    },
    {
      "cell_type": "code",
      "metadata": {
        "id": "6XbPkjbJd-1S",
        "outputId": "38fa52b3-b963-4bdf-c9f1-943215da20b1",
        "colab": {
          "base_uri": "https://localhost:8080/",
          "height": 449
        }
      },
      "source": [
        "predicted_poly = mnist_classifier_poly.predict(data[\"test\"][\"X\"])\n",
        "conf_matrix_df_poly = pd.DataFrame(metrics.confusion_matrix(data[\"test\"][\"Y\"], predicted_poly))\n",
        "plt.figure(figsize = (10,7))\n",
        "sns.heatmap(conf_matrix_df_poly, annot=True, cmap=\"YlOrRd\", fmt=\"d\")"
      ],
      "execution_count": 28,
      "outputs": [
        {
          "output_type": "execute_result",
          "data": {
            "text/plain": [
              "<matplotlib.axes._subplots.AxesSubplot at 0x7f0421482588>"
            ]
          },
          "metadata": {
            "tags": []
          },
          "execution_count": 28
        },
        {
          "output_type": "display_data",
          "data": {
            "image/png": "[encoded data removed]",
            "text/plain": [
              "<Figure size 720x504 with 2 Axes>"
            ]
          },
          "metadata": {
            "tags": [],
            "needs_background": "light"
          }
        }
      ]
    },
    {
      "cell_type": "code",
      "metadata": {
        "id": "aIRDMdLDcgGp",
        "outputId": "04a3e5f7-da83-47eb-81fb-29ed411cd0e9",
        "colab": {
          "base_uri": "https://localhost:8080/",
          "height": 102
        }
      },
      "source": [
        "error_rate_rbf = 100*(1 - metrics.accuracy_score(data[\"test\"][\"Y\"], predicted_rbf))\n",
        "error_rate_poly = 100*(1 - metrics.accuracy_score(data[\"test\"][\"Y\"], predicted_poly))\n",
        "\n",
        "print(\"Error rate with gaussian kernel: %0.4f\"%error_rate_rbf)\n",
        "print(\"Accuracy with gaussian kernel: \" + str(metrics.accuracy_score(data[\"test\"][\"Y\"], predicted_rbf)))\n",
        "\n",
        "print(\"Error rate with polynomial kernel: %0.4f\"%error_rate_poly)\n",
        "\n",
        "print(\"Accuracy with gaussian kernel: \" + str(metrics.accuracy_score(data[\"test\"][\"Y\"], predicted_poly)))"
      ],
      "execution_count": 35,
      "outputs": [
        {
          "output_type": "stream",
          "text": [
            "Error rate with gaussian kernel: 1.4857\n",
            "Accuracy with gaussian kernel: 0.9851428571428571\n",
            "Error rate with polynomial kernel: 1.5714\n",
            "Accuracy with gaussian kernel: 0.9842857142857143\n"
          ],
          "name": "stdout"
        }
      ]
    },
    {
      "cell_type": "code",
      "metadata": {
        "id": "RLcxHvOVYmce",
        "outputId": "a7cde29b-a0fa-4aba-dafa-74d47d098d71",
        "colab": {
          "base_uri": "https://localhost:8080/",
          "height": 60
        }
      },
      "source": [
        "print(metrics.matthews_corrcoef(data[\"test\"][\"Y\"], predicted_rbf))\n",
        "print(metrics.matthews_corrcoef(data[\"test\"][\"Y\"], predicted_poly))\n",
        "\n"
      ],
      "execution_count": 38,
      "outputs": [
        {
          "output_type": "stream",
          "text": [
            "0.9834856625392243\n",
            "0.9825337014009491\n"
          ],
          "name": "stdout"
        }
      ]
    },
    {
      "cell_type": "code",
      "metadata": {
        "id": "PSuq82kBbQMZ",
        "tags": []
      },
      "source": [
        "#print(metrics.classification_report(data[\"test\"][\"Y\"], predicted_rbf))"
      ],
      "execution_count": 40,
      "outputs": []
    },
    {
      "cell_type": "markdown",
      "metadata": {
        "id": "79ykHczvXdsl"
      },
      "source": [
        "| Kernel| C | Gamma | Accuracy | MCC |\n",
        "|---|---|---|---|---|\n",
        "|RBF| 50 | 0.001 | 0.9718 | 0.9826\n",
        "|RBF| 10 | 0.01 | 0.9844 | 0.9826\n",
        "|RBF| 50 | 0.01 | 0.9851 | 0.9826\n",
        "|RBF| 75 | 0.01 | 0.9848 | 0.9831\n",
        "|RBF| 100 | 0.01 | 0.9849 | 0.9831\n"
      ]
    },
    {
      "cell_type": "code",
      "metadata": {
        "id": "ygTrx_aX6A0n"
      },
      "source": [
        ""
      ],
      "execution_count": null,
      "outputs": []
    }
  ]
}