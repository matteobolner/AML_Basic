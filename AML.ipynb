{
  "nbformat": 4,
  "nbformat_minor": 0,
  "metadata": {
    "colab": {
      "name": "AML",
      "provenance": [],
      "collapsed_sections": [],
      "include_colab_link": true
    },
    "kernelspec": {
      "display_name": "Python 3",
      "language": "python",
      "name": "python3"
    },
    "language_info": {
      "codemirror_mode": {
        "name": "ipython",
        "version": 3
      },
      "file_extension": ".py",
      "mimetype": "text/x-python",
      "name": "python",
      "nbconvert_exporter": "python",
      "pygments_lexer": "ipython3",
      "version": "3.8.6"
    }
  },
  "cells": [
    {
      "cell_type": "markdown",
      "metadata": {
        "id": "view-in-github",
        "colab_type": "text"
      },
      "source": [
        "<a href=\"https://colab.research.google.com/github/matteobolner/AML_Basic/blob/master/AML.ipynb\" target=\"_parent\"><img src=\"https://colab.research.google.com/assets/colab-badge.svg\" alt=\"Open In Colab\"/></a>"
      ]
    },
    {
      "cell_type": "markdown",
      "metadata": {
        "id": "RCSI4c7WzNAx"
      },
      "source": [
        "**LIBRARIES**\n",
        "\n",
        "---\n",
        "\n",
        "\n",
        "\n",
        "\n"
      ]
    },
    {
      "cell_type": "code",
      "metadata": {
        "id": "q74nVTBCXzz5"
      },
      "source": [
        "import scipy as sp\n",
        "import math\n",
        "import matplotlib.pyplot as plt\n",
        "import numpy as np\n",
        "import pandas as pd\n",
        "import seaborn as sns\n",
        "import time\n",
        "import datetime as dt\n",
        "import joblib\n",
        "from urllib.request import urlopen\n",
        "from numpy import set_printoptions\n",
        "from scipy.ndimage import interpolation\n",
        "from sklearn.preprocessing import MinMaxScaler\n",
        "from sklearn.model_selection import train_test_split\n",
        "from sklearn.model_selection import GridSearchCV\n",
        "from sklearn.metrics import classification_report\n",
        "from sklearn import datasets, svm, metrics\n",
        "from sklearn.datasets import fetch_openml\n",
        "from sklearn.svm import SVC"
      ],
      "execution_count": 35,
      "outputs": []
    },
    {
      "cell_type": "markdown",
      "metadata": {
        "id": "gDAIh75FzLon"
      },
      "source": [
        "  \n",
        "\n",
        "**LOADING THE DATASET**\n",
        "\n",
        "---\n",
        "\n",
        "\n"
      ]
    },
    {
      "cell_type": "code",
      "metadata": {
        "id": "0z89hzuJc4g1"
      },
      "source": [
        "X, y = fetch_openml('mnist_784', version=1, return_X_y=True)"
      ],
      "execution_count": 36,
      "outputs": []
    },
    {
      "cell_type": "code",
      "metadata": {
        "id": "8hSmezWWMPiN",
        "outputId": "f55f8db6-8085-4f90-e204-4353834d832e",
        "colab": {
          "base_uri": "https://localhost:8080/",
          "height": 286
        }
      },
      "source": [
        "plt.imshow(X[0].reshape(28,28))"
      ],
      "execution_count": 37,
      "outputs": [
        {
          "output_type": "execute_result",
          "data": {
            "text/plain": [
              "<matplotlib.image.AxesImage at 0x7fb1f1673c88>"
            ]
          },
          "metadata": {
            "tags": []
          },
          "execution_count": 37
        },
        {
          "output_type": "display_data",
          "data": {
            "image/png": "[encoded data removed]",
            "text/plain": [
              "<Figure size 432x288 with 1 Axes>"
            ]
          },
          "metadata": {
            "tags": [],
            "needs_background": "light"
          }
        }
      ]
    },
    {
      "cell_type": "markdown",
      "metadata": {
        "id": "Cz-eqn0Ehpow"
      },
      "source": [
        "**DATA PREPROCESSING**\n",
        "\n",
        "---\n",
        "\n",
        "According to most literature available, handwriting classification models based on Support Vector Machines (SVM) greatly benefit from deskewing, that is the straightening of the numbers in the images.    \n",
        "Therefore, all the images in the dataset were processed with deskewing, using the method available at https://fsix.github.io/mnist/Deskewing.html\n",
        "\n",
        "\n",
        "\n",
        "\n",
        "\n",
        "\n"
      ]
    },
    {
      "cell_type": "code",
      "metadata": {
        "id": "71g6xHhufb_w"
      },
      "source": [
        "def moments(image):\n",
        "    c0,c1 = np.mgrid[:image.shape[0],:image.shape[1]] # A trick in numPy to create a mesh grid\n",
        "    totalImage = np.sum(image) #sum of pixels\n",
        "    m0 = np.sum(c0*image)/totalImage #mu_x\n",
        "    m1 = np.sum(c1*image)/totalImage #mu_y\n",
        "    m00 = np.sum((c0-m0)**2*image)/totalImage #var(x)\n",
        "    m11 = np.sum((c1-m1)**2*image)/totalImage #var(y)\n",
        "    m01 = np.sum((c0-m0)*(c1-m1)*image)/totalImage #covariance(x,y)\n",
        "    mu_vector = np.array([m0,m1]) # Notice that these are \\mu_x, \\mu_y respectively\n",
        "    covariance_matrix = np.array([[m00,m01],[m01,m11]]) # Do you see a similarity between the covariance matrix\n",
        "    return mu_vector, covariance_matrix\n",
        "\n",
        "def deskew(image):\n",
        "    c,v = moments(image)\n",
        "    alpha = v[0,1]/v[0,0]\n",
        "    affine = np.array([[1,0],[alpha,1]])\n",
        "    ocenter = np.array(image.shape)/2.0\n",
        "    offset = c-np.dot(affine,ocenter)\n",
        "    return interpolation.affine_transform(image,affine,offset=offset)\n"
      ],
      "execution_count": 38,
      "outputs": []
    },
    {
      "cell_type": "markdown",
      "metadata": {
        "id": "Pb0ytLdq1e8y"
      },
      "source": [
        "The results of deskewing can be appreciated in the images below"
      ]
    },
    {
      "cell_type": "code",
      "metadata": {
        "id": "_8k_3E03fb5g",
        "outputId": "2075acd5-0f94-4d60-c846-aa94b9dddc87",
        "colab": {
          "base_uri": "https://localhost:8080/",
          "height": 222
        }
      },
      "source": [
        "plt.subplot(1, 2, 1)\n",
        "plt.imshow(X[7].reshape(28,28))\n",
        "\n",
        "newim = deskew(X[7].reshape(28,28))\n",
        "plt.subplot(1, 2, 2)\n",
        "plt.imshow(newim)"
      ],
      "execution_count": 39,
      "outputs": [
        {
          "output_type": "execute_result",
          "data": {
            "text/plain": [
              "<matplotlib.image.AxesImage at 0x7fb1f1164c50>"
            ]
          },
          "metadata": {
            "tags": []
          },
          "execution_count": 39
        },
        {
          "output_type": "display_data",
          "data": {
            "image/png": "[encoded data removed]",
            "text/plain": [
              "<Figure size 432x288 with 2 Axes>"
            ]
          },
          "metadata": {
            "tags": [],
            "needs_background": "light"
          }
        }
      ]
    },
    {
      "cell_type": "code",
      "metadata": {
        "id": "ETswx9kxfb2J"
      },
      "source": [
        "def deskewAll(X):\n",
        "    currents = []\n",
        "    for i in range(len(X)):\n",
        "        currents.append(deskew(X[i].reshape(28,28)).flatten())\n",
        "    return np.array(currents)\n",
        "\n",
        "X_deskewed = deskewAll(X)"
      ],
      "execution_count": 40,
      "outputs": []
    },
    {
      "cell_type": "markdown",
      "metadata": {
        "id": "paNuV7hAUWGB"
      },
      "source": [
        "Each feature is then transformed by rescaling to a value between 0 and 1"
      ]
    },
    {
      "cell_type": "code",
      "metadata": {
        "id": "UMRuFjPedLh-"
      },
      "source": [
        "scaler = MinMaxScaler(feature_range=(0, 1))\n",
        "rescaledX = scaler.fit_transform(X_deskewed)"
      ],
      "execution_count": 41,
      "outputs": []
    },
    {
      "cell_type": "markdown",
      "metadata": {
        "id": "jfODOe6LWWBR"
      },
      "source": [
        "The dataset is split into training and testing sets, with a test size 15% of the total"
      ]
    },
    {
      "cell_type": "code",
      "metadata": {
        "id": "34WjJO7KIorP"
      },
      "source": [
        "x_train, x_test, y_train, y_test = train_test_split(rescaledX, y, test_size=0.15, random_state=42)\n",
        "data = {\"train\": {\"X\": x_train, \"Y\": y_train}, \"test\": {\"X\": x_test, \"Y\": y_test},}"
      ],
      "execution_count": 42,
      "outputs": []
    },
    {
      "cell_type": "code",
      "metadata": {
        "id": "7RnrUDTcOCpf"
      },
      "source": [
        "samplesize = len(data[\"train\"][\"X\"])"
      ],
      "execution_count": 43,
      "outputs": []
    },
    {
      "cell_type": "code",
      "metadata": {
        "id": "lXpzGPUROuXK"
      },
      "source": [
        "#poly-9 degrees are used with virtual svms (virtualized data)\n",
        "#mnist_classifier = SVC(probability=False, kernel=\"poly\", degree=9, C =2, gamma=0.01)"
      ],
      "execution_count": 44,
      "outputs": []
    },
    {
      "cell_type": "markdown",
      "metadata": {
        "id": "e2ceecUoWuhk"
      },
      "source": [
        "**PARAMETER TUNING**\n",
        "\n",
        "\n",
        "---\n",
        "\n",
        "The main parameters considered in the tuning of the model are:\n",
        "\n",
        "\n",
        "*   **C** -> Regularization parameter\n",
        "*   **kernel** -> kernel type used in the algorithm\n",
        "*   **gamma** -> kernel coefficient\n",
        "\n",
        "The only kernel considered for now is the RBF (or Gaussian) kernel; the C and gamma parameters will be selected with the grid search method."
      ]
    },
    {
      "cell_type": "code",
      "metadata": {
        "id": "ulo8OVLM7kaW"
      },
      "source": [
        "gamma_range = [0.0001, 0.01, 1.0, 5]\n",
        "C_range = [0.001, 0.1, 10]\n",
        "parameters = {'kernel':['rbf'], 'C':C_range, 'gamma': gamma_range}"
      ],
      "execution_count": 45,
      "outputs": []
    },
    {
      "cell_type": "code",
      "metadata": {
        "id": "oxUhdsRA-uK_",
        "outputId": "98b12917-7fc8-43bd-d65c-f09be1f7442b",
        "colab": {
          "base_uri": "https://localhost:8080/",
          "height": 38
        }
      },
      "source": [
        "gamma_range"
      ],
      "execution_count": 46,
      "outputs": [
        {
          "output_type": "execute_result",
          "data": {
            "text/plain": [
              "[0.0001, 0.01, 1.0, 5]"
            ]
          },
          "metadata": {
            "tags": []
          },
          "execution_count": 46
        }
      ]
    },
    {
      "cell_type": "code",
      "metadata": {
        "id": "9OqZMWDc-vNT",
        "outputId": "2e8a663d-fa3c-43b9-a5c7-962fa59bed5a",
        "colab": {
          "base_uri": "https://localhost:8080/",
          "height": 38
        }
      },
      "source": [
        "C_range"
      ],
      "execution_count": 47,
      "outputs": [
        {
          "output_type": "execute_result",
          "data": {
            "text/plain": [
              "[0.001, 0.1, 10]"
            ]
          },
          "metadata": {
            "tags": []
          },
          "execution_count": 47
        }
      ]
    },
    {
      "cell_type": "code",
      "metadata": {
        "id": "chKGR8n--8xS"
      },
      "source": [
        "svm_clf = svm.SVC()\n",
        "grid_clf = GridSearchCV(estimator=svm_clf,param_grid=parameters, cv = 3, n_jobs=7, verbose=10)"
      ],
      "execution_count": 48,
      "outputs": []
    },
    {
      "cell_type": "code",
      "metadata": {
        "id": "lQZyzYxu_Gls",
        "tags": [],
        "outputId": "26728298-2f12-40c7-a527-8171a9ec132b",
        "colab": {
          "base_uri": "https://localhost:8080/",
          "height": 38
        }
      },
      "source": [
        "start_time = dt.datetime.now()\n",
        "print('Start param searching at {}'.format(str(start_time)))"
      ],
      "execution_count": 49,
      "outputs": [
        {
          "output_type": "stream",
          "text": [
            "Start param searching at 2020-10-09 08:17:41.637605\n"
          ],
          "name": "stdout"
        }
      ]
    },
    {
      "cell_type": "code",
      "metadata": {
        "id": "vQbDYOzs_I9X",
        "tags": []
      },
      "source": [
        "#grid_clf.fit(data[\"train\"][\"X\"][:samplesize], data[\"train\"][\"Y\"][:samplesize])"
      ],
      "execution_count": 50,
      "outputs": []
    },
    {
      "cell_type": "code",
      "metadata": {
        "id": "LUcBeh1Q_P3F",
        "scrolled": true,
        "tags": [],
        "outputId": "4bf6f827-f1a8-458d-d4fd-d774c72b395c",
        "colab": {
          "base_uri": "https://localhost:8080/",
          "height": 38
        }
      },
      "source": [
        "elapsed_time= dt.datetime.now() - start_time\n",
        "print('Elapsed time, param searching {}'.format(str(elapsed_time)))"
      ],
      "execution_count": 51,
      "outputs": [
        {
          "output_type": "stream",
          "text": [
            "Elapsed time, param searching 0:00:00.014781\n"
          ],
          "name": "stdout"
        }
      ]
    },
    {
      "cell_type": "code",
      "metadata": {
        "id": "l71w9xAYa3vb",
        "outputId": "5edbe2ac-33e5-4dbc-8361-c3795d904487",
        "colab": {
          "base_uri": "https://localhost:8080/",
          "height": 122
        }
      },
      "source": [
        "grid_clf_imported = joblib.load(urlopen('https://github.com/matteobolner/AML_Basic/blob/master/grid_clf.pkl?raw=true'))"
      ],
      "execution_count": 52,
      "outputs": [
        {
          "output_type": "stream",
          "text": [
            "/usr/local/lib/python3.6/dist-packages/sklearn/base.py:318: UserWarning: Trying to unpickle estimator SVC from version 0.23.2 when using version 0.22.2.post1. This might lead to breaking code or invalid results. Use at your own risk.\n",
            "  UserWarning)\n",
            "/usr/local/lib/python3.6/dist-packages/sklearn/base.py:318: UserWarning: Trying to unpickle estimator GridSearchCV from version 0.23.2 when using version 0.22.2.post1. This might lead to breaking code or invalid results. Use at your own risk.\n",
            "  UserWarning)\n"
          ],
          "name": "stderr"
        }
      ]
    },
    {
      "cell_type": "code",
      "metadata": {
        "id": "z2tE0wUdXdrE",
        "outputId": "0cf7b679-31be-4812-b198-7200de37dc04",
        "colab": {
          "base_uri": "https://localhost:8080/",
          "height": 273
        }
      },
      "source": [
        "grid_clf_imported"
      ],
      "execution_count": 53,
      "outputs": [
        {
          "output_type": "execute_result",
          "data": {
            "text/plain": [
              "GridSearchCV(cv=3, error_score=nan,\n",
              "             estimator=SVC(C=1.0, break_ties=False, cache_size=1000,\n",
              "                           class_weight=None, coef0=0.0,\n",
              "                           decision_function_shape='ovr', degree=3,\n",
              "                           gamma='scale', kernel='rbf', max_iter=-1,\n",
              "                           probability=False, random_state=None, shrinking=True,\n",
              "                           tol=0.001, verbose=False),\n",
              "             iid='deprecated', n_jobs=7,\n",
              "             param_grid={'C': [0.1, 1, 10, 50, 100],\n",
              "                         'gamma': [0.0001, 0.01, 1.0, 10], 'kernel': ['rbf']},\n",
              "             pre_dispatch='2*n_jobs', refit=True, return_train_score=False,\n",
              "             scoring=None, verbose=10)"
            ]
          },
          "metadata": {
            "tags": []
          },
          "execution_count": 53
        }
      ]
    },
    {
      "cell_type": "code",
      "metadata": {
        "id": "V37G_LmF_QPB"
      },
      "source": [
        "#print(grid_clf.cv_results_.keys())\n",
        "\n",
        "classifier = grid_clf_imported.best_estimator_\n",
        "params = grid_clf_imported.best_params_\n",
        "scores = grid_clf_imported.cv_results_['mean_test_score']"
      ],
      "execution_count": 54,
      "outputs": []
    },
    {
      "cell_type": "code",
      "metadata": {
        "id": "lmt5dOV_rfhQ",
        "scrolled": true,
        "outputId": "c73b1fb0-cf67-4166-dcf0-3f901e31e51b",
        "colab": {
          "base_uri": "https://localhost:8080/",
          "height": 286
        }
      },
      "source": [
        "plt.plot(scores)"
      ],
      "execution_count": 55,
      "outputs": [
        {
          "output_type": "execute_result",
          "data": {
            "text/plain": [
              "[<matplotlib.lines.Line2D at 0x7fb1f0e085c0>]"
            ]
          },
          "metadata": {
            "tags": []
          },
          "execution_count": 55
        },
        {
          "output_type": "display_data",
          "data": {
            "image/png": "[encoded data removed]",
            "text/plain": [
              "<Figure size 432x288 with 1 Axes>"
            ]
          },
          "metadata": {
            "tags": [],
            "needs_background": "light"
          }
        }
      ]
    },
    {
      "cell_type": "code",
      "metadata": {
        "id": "F8WUp4CYNKmd",
        "tags": [],
        "outputId": "d094068b-da03-4dc4-8372-963376d34766",
        "colab": {
          "base_uri": "https://localhost:8080/",
          "height": 316
        }
      },
      "source": [
        "print(\"Best performing classifier:\\n\" + str(classifier))\n",
        "print(\"\\nBest parameters:\\n\" + str(params))\n",
        "print(\"\\nAll test scores:\\n\" + str(scores))"
      ],
      "execution_count": 56,
      "outputs": [
        {
          "output_type": "stream",
          "text": [
            "Best performing classifier:\n",
            "SVC(C=50, break_ties=False, cache_size=1000, class_weight=None, coef0=0.0,\n",
            "    decision_function_shape='ovr', degree=3, gamma=0.01, kernel='rbf',\n",
            "    max_iter=-1, probability=False, random_state=None, shrinking=True,\n",
            "    tol=0.001, verbose=False)\n",
            "\n",
            "Best parameters:\n",
            "{'C': 50, 'gamma': 0.01, 'kernel': 'rbf'}\n",
            "\n",
            "All test scores:\n",
            "[0.55932651 0.95579592 0.19553059 0.1125102  0.91991842 0.97334695\n",
            " 0.35477557 0.1125102  0.95091837 0.98218367 0.38485717 0.1125102\n",
            " 0.96085716 0.98257143 0.38485717 0.1125102  0.96330613 0.98238776\n",
            " 0.38485717 0.1125102 ]\n"
          ],
          "name": "stdout"
        }
      ]
    },
    {
      "cell_type": "code",
      "metadata": {
        "id": "O08OIwD1B1HQ"
      },
      "source": [
        "#grid_clf.cv_results_"
      ],
      "execution_count": 57,
      "outputs": []
    },
    {
      "cell_type": "code",
      "metadata": {
        "id": "tow4TA4LS_zX"
      },
      "source": [
        "#predicted = grid_clf.predict(data[\"test\"][\"X\"])\n",
        "#print(\"Confusion matrix:\\n%s\" % metrics.confusion_matrix(data[\"test\"][\"Y\"], predicted))\n",
        "#print(\"Accuracy: %0.4f\" % metrics.accuracy_score(data[\"test\"][\"Y\"], predicted))\n"
      ],
      "execution_count": 58,
      "outputs": []
    },
    {
      "cell_type": "code",
      "metadata": {
        "id": "E54eBJhYhZCt"
      },
      "source": [
        "#print(sklearn.metrics.matthews_corrcoef(y_pred, data[\"test\"][\"Y\"]))"
      ],
      "execution_count": null,
      "outputs": []
    },
    {
      "cell_type": "code",
      "metadata": {
        "id": "dQUJrDJajt_X"
      },
      "source": [
        "params_df = pd.concat([pd.DataFrame(grid_clf_imported.cv_results_[\"params\"]),pd.DataFrame(grid_clf_imported.cv_results_[\"mean_test_score\"], columns=[\"Accuracy\"])],axis=1)"
      ],
      "execution_count": 61,
      "outputs": []
    },
    {
      "cell_type": "code",
      "metadata": {
        "id": "AS1atSHWOBHY",
        "outputId": "a31c8f02-3352-48e5-e0c7-9294cefdc38b",
        "colab": {
          "base_uri": "https://localhost:8080/",
          "height": 677
        }
      },
      "source": [
        "params_df"
      ],
      "execution_count": 62,
      "outputs": [
        {
          "output_type": "execute_result",
          "data": {
            "text/html": [
              "<div>\n",
              "<style scoped>\n",
              "    .dataframe tbody tr th:only-of-type {\n",
              "        vertical-align: middle;\n",
              "    }\n",
              "\n",
              "    .dataframe tbody tr th {\n",
              "        vertical-align: top;\n",
              "    }\n",
              "\n",
              "    .dataframe thead th {\n",
              "        text-align: right;\n",
              "    }\n",
              "</style>\n",
              "<table border=\"1\" class=\"dataframe\">\n",
              "  <thead>\n",
              "    <tr style=\"text-align: right;\">\n",
              "      <th></th>\n",
              "      <th>C</th>\n",
              "      <th>gamma</th>\n",
              "      <th>kernel</th>\n",
              "      <th>Accuracy</th>\n",
              "    </tr>\n",
              "  </thead>\n",
              "  <tbody>\n",
              "    <tr>\n",
              "      <th>0</th>\n",
              "      <td>0.1</td>\n",
              "      <td>0.0001</td>\n",
              "      <td>rbf</td>\n",
              "      <td>0.559327</td>\n",
              "    </tr>\n",
              "    <tr>\n",
              "      <th>1</th>\n",
              "      <td>0.1</td>\n",
              "      <td>0.0100</td>\n",
              "      <td>rbf</td>\n",
              "      <td>0.955796</td>\n",
              "    </tr>\n",
              "    <tr>\n",
              "      <th>2</th>\n",
              "      <td>0.1</td>\n",
              "      <td>1.0000</td>\n",
              "      <td>rbf</td>\n",
              "      <td>0.195531</td>\n",
              "    </tr>\n",
              "    <tr>\n",
              "      <th>3</th>\n",
              "      <td>0.1</td>\n",
              "      <td>10.0000</td>\n",
              "      <td>rbf</td>\n",
              "      <td>0.112510</td>\n",
              "    </tr>\n",
              "    <tr>\n",
              "      <th>4</th>\n",
              "      <td>1.0</td>\n",
              "      <td>0.0001</td>\n",
              "      <td>rbf</td>\n",
              "      <td>0.919918</td>\n",
              "    </tr>\n",
              "    <tr>\n",
              "      <th>5</th>\n",
              "      <td>1.0</td>\n",
              "      <td>0.0100</td>\n",
              "      <td>rbf</td>\n",
              "      <td>0.973347</td>\n",
              "    </tr>\n",
              "    <tr>\n",
              "      <th>6</th>\n",
              "      <td>1.0</td>\n",
              "      <td>1.0000</td>\n",
              "      <td>rbf</td>\n",
              "      <td>0.354776</td>\n",
              "    </tr>\n",
              "    <tr>\n",
              "      <th>7</th>\n",
              "      <td>1.0</td>\n",
              "      <td>10.0000</td>\n",
              "      <td>rbf</td>\n",
              "      <td>0.112510</td>\n",
              "    </tr>\n",
              "    <tr>\n",
              "      <th>8</th>\n",
              "      <td>10.0</td>\n",
              "      <td>0.0001</td>\n",
              "      <td>rbf</td>\n",
              "      <td>0.950918</td>\n",
              "    </tr>\n",
              "    <tr>\n",
              "      <th>9</th>\n",
              "      <td>10.0</td>\n",
              "      <td>0.0100</td>\n",
              "      <td>rbf</td>\n",
              "      <td>0.982184</td>\n",
              "    </tr>\n",
              "    <tr>\n",
              "      <th>10</th>\n",
              "      <td>10.0</td>\n",
              "      <td>1.0000</td>\n",
              "      <td>rbf</td>\n",
              "      <td>0.384857</td>\n",
              "    </tr>\n",
              "    <tr>\n",
              "      <th>11</th>\n",
              "      <td>10.0</td>\n",
              "      <td>10.0000</td>\n",
              "      <td>rbf</td>\n",
              "      <td>0.112510</td>\n",
              "    </tr>\n",
              "    <tr>\n",
              "      <th>12</th>\n",
              "      <td>50.0</td>\n",
              "      <td>0.0001</td>\n",
              "      <td>rbf</td>\n",
              "      <td>0.960857</td>\n",
              "    </tr>\n",
              "    <tr>\n",
              "      <th>13</th>\n",
              "      <td>50.0</td>\n",
              "      <td>0.0100</td>\n",
              "      <td>rbf</td>\n",
              "      <td>0.982571</td>\n",
              "    </tr>\n",
              "    <tr>\n",
              "      <th>14</th>\n",
              "      <td>50.0</td>\n",
              "      <td>1.0000</td>\n",
              "      <td>rbf</td>\n",
              "      <td>0.384857</td>\n",
              "    </tr>\n",
              "    <tr>\n",
              "      <th>15</th>\n",
              "      <td>50.0</td>\n",
              "      <td>10.0000</td>\n",
              "      <td>rbf</td>\n",
              "      <td>0.112510</td>\n",
              "    </tr>\n",
              "    <tr>\n",
              "      <th>16</th>\n",
              "      <td>100.0</td>\n",
              "      <td>0.0001</td>\n",
              "      <td>rbf</td>\n",
              "      <td>0.963306</td>\n",
              "    </tr>\n",
              "    <tr>\n",
              "      <th>17</th>\n",
              "      <td>100.0</td>\n",
              "      <td>0.0100</td>\n",
              "      <td>rbf</td>\n",
              "      <td>0.982388</td>\n",
              "    </tr>\n",
              "    <tr>\n",
              "      <th>18</th>\n",
              "      <td>100.0</td>\n",
              "      <td>1.0000</td>\n",
              "      <td>rbf</td>\n",
              "      <td>0.384857</td>\n",
              "    </tr>\n",
              "    <tr>\n",
              "      <th>19</th>\n",
              "      <td>100.0</td>\n",
              "      <td>10.0000</td>\n",
              "      <td>rbf</td>\n",
              "      <td>0.112510</td>\n",
              "    </tr>\n",
              "  </tbody>\n",
              "</table>\n",
              "</div>"
            ],
            "text/plain": [
              "        C    gamma kernel  Accuracy\n",
              "0     0.1   0.0001    rbf  0.559327\n",
              "1     0.1   0.0100    rbf  0.955796\n",
              "2     0.1   1.0000    rbf  0.195531\n",
              "3     0.1  10.0000    rbf  0.112510\n",
              "4     1.0   0.0001    rbf  0.919918\n",
              "5     1.0   0.0100    rbf  0.973347\n",
              "6     1.0   1.0000    rbf  0.354776\n",
              "7     1.0  10.0000    rbf  0.112510\n",
              "8    10.0   0.0001    rbf  0.950918\n",
              "9    10.0   0.0100    rbf  0.982184\n",
              "10   10.0   1.0000    rbf  0.384857\n",
              "11   10.0  10.0000    rbf  0.112510\n",
              "12   50.0   0.0001    rbf  0.960857\n",
              "13   50.0   0.0100    rbf  0.982571\n",
              "14   50.0   1.0000    rbf  0.384857\n",
              "15   50.0  10.0000    rbf  0.112510\n",
              "16  100.0   0.0001    rbf  0.963306\n",
              "17  100.0   0.0100    rbf  0.982388\n",
              "18  100.0   1.0000    rbf  0.384857\n",
              "19  100.0  10.0000    rbf  0.112510"
            ]
          },
          "metadata": {
            "tags": []
          },
          "execution_count": 62
        }
      ]
    },
    {
      "cell_type": "code",
      "metadata": {
        "id": "5WYbCuI2OQAE",
        "tags": [],
        "outputId": "7d938884-b351-48fb-928e-ba12fb5dd018",
        "colab": {
          "base_uri": "https://localhost:8080/",
          "height": 102
        }
      },
      "source": [
        "print(\"Best parameters set found on development set:\")\n",
        "print()\n",
        "print(grid_clf_imported.best_params_)\n",
        "print()"
      ],
      "execution_count": 63,
      "outputs": [
        {
          "output_type": "stream",
          "text": [
            "Best parameters set found on development set:\n",
            "\n",
            "{'C': 50, 'gamma': 0.01, 'kernel': 'rbf'}\n",
            "\n"
          ],
          "name": "stdout"
        }
      ]
    },
    {
      "cell_type": "code",
      "metadata": {
        "id": "n9ORPu18iiO7",
        "tags": [],
        "outputId": "f94e0317-277d-4245-9bc7-d5aa1e1dacaf",
        "colab": {
          "base_uri": "https://localhost:8080/",
          "height": 444
        }
      },
      "source": [
        "means = grid_clf_imported.cv_results_['mean_test_score']\n",
        "stds = grid_clf_imported.cv_results_['std_test_score']\n",
        "for mean, std, params in zip(means, stds, grid_clf_imported.cv_results_['params']):\n",
        "  print(\"%0.3f (+/-%0.03f) with %r\" % (mean, std * 2, params))"
      ],
      "execution_count": 64,
      "outputs": [
        {
          "output_type": "stream",
          "text": [
            "0.559 (+/-0.002) with {'C': 0.1, 'gamma': 0.0001, 'kernel': 'rbf'}\n",
            "0.956 (+/-0.002) with {'C': 0.1, 'gamma': 0.01, 'kernel': 'rbf'}\n",
            "0.196 (+/-0.002) with {'C': 0.1, 'gamma': 1.0, 'kernel': 'rbf'}\n",
            "0.113 (+/-0.000) with {'C': 0.1, 'gamma': 10, 'kernel': 'rbf'}\n",
            "0.920 (+/-0.004) with {'C': 1, 'gamma': 0.0001, 'kernel': 'rbf'}\n",
            "0.973 (+/-0.001) with {'C': 1, 'gamma': 0.01, 'kernel': 'rbf'}\n",
            "0.355 (+/-0.004) with {'C': 1, 'gamma': 1.0, 'kernel': 'rbf'}\n",
            "0.113 (+/-0.000) with {'C': 1, 'gamma': 10, 'kernel': 'rbf'}\n",
            "0.951 (+/-0.003) with {'C': 10, 'gamma': 0.0001, 'kernel': 'rbf'}\n",
            "0.982 (+/-0.000) with {'C': 10, 'gamma': 0.01, 'kernel': 'rbf'}\n",
            "0.385 (+/-0.003) with {'C': 10, 'gamma': 1.0, 'kernel': 'rbf'}\n",
            "0.113 (+/-0.000) with {'C': 10, 'gamma': 10, 'kernel': 'rbf'}\n",
            "0.961 (+/-0.002) with {'C': 50, 'gamma': 0.0001, 'kernel': 'rbf'}\n",
            "0.983 (+/-0.000) with {'C': 50, 'gamma': 0.01, 'kernel': 'rbf'}\n",
            "0.385 (+/-0.003) with {'C': 50, 'gamma': 1.0, 'kernel': 'rbf'}\n",
            "0.113 (+/-0.000) with {'C': 50, 'gamma': 10, 'kernel': 'rbf'}\n",
            "0.963 (+/-0.002) with {'C': 100, 'gamma': 0.0001, 'kernel': 'rbf'}\n",
            "0.982 (+/-0.000) with {'C': 100, 'gamma': 0.01, 'kernel': 'rbf'}\n",
            "0.385 (+/-0.003) with {'C': 100, 'gamma': 1.0, 'kernel': 'rbf'}\n",
            "0.113 (+/-0.000) with {'C': 100, 'gamma': 10, 'kernel': 'rbf'}\n"
          ],
          "name": "stdout"
        }
      ]
    },
    {
      "cell_type": "code",
      "metadata": {
        "id": "0e2HbaLQU2Sj"
      },
      "source": [
        "# best parameters: {'C': 50, 'gamma': 0.01, 'kernel': 'rbf'}\n",
        "mnist_classifier = SVC(probability=False, kernel=\"rbf\", C=50, gamma=0.001)\n",
        "mnist_classifier.fit(data[\"train\"][\"X\"][:samplesize], data[\"train\"][\"Y\"][:samplesize])"
      ],
      "execution_count": null,
      "outputs": []
    },
    {
      "cell_type": "code",
      "metadata": {
        "id": "AoJ0HUECmQ0D",
        "tags": [],
        "outputId": "3f31cdf5-f449-4526-e4ca-ad4c50306658",
        "colab": {
          "base_uri": "https://localhost:8080/",
          "height": 451
        }
      },
      "source": [
        "predicted = mnist_classifier.predict(data[\"test\"][\"X\"])\n",
        "df_cm = pd.DataFrame(metrics.confusion_matrix(data[\"test\"][\"Y\"], predicted))\n",
        "plt.figure(figsize = (10,7))\n",
        "sns.heatmap(df_cm, annot=True, cmap=\"YlOrRd\", fmt=\"d\")\n",
        "print(\"Accuracy: %0.4f\" % metrics.accuracy_score(data[\"test\"][\"Y\"], predicted))"
      ],
      "execution_count": 60,
      "outputs": [
        {
          "output_type": "error",
          "ename": "AttributeError",
          "evalue": "ignored",
          "traceback": [
            "\u001b[0;31m---------------------------------------------------------------------------\u001b[0m",
            "\u001b[0;31mAttributeError\u001b[0m                            Traceback (most recent call last)",
            "\u001b[0;32m<ipython-input-60-a7a0b7d661bb>\u001b[0m in \u001b[0;36m<module>\u001b[0;34m()\u001b[0m\n\u001b[0;32m----> 1\u001b[0;31m \u001b[0mpredicted\u001b[0m \u001b[0;34m=\u001b[0m \u001b[0mgrid_clf_imported\u001b[0m\u001b[0;34m.\u001b[0m\u001b[0mpredict\u001b[0m\u001b[0;34m(\u001b[0m\u001b[0mdata\u001b[0m\u001b[0;34m[\u001b[0m\u001b[0;34m\"test\"\u001b[0m\u001b[0;34m]\u001b[0m\u001b[0;34m[\u001b[0m\u001b[0;34m\"X\"\u001b[0m\u001b[0;34m]\u001b[0m\u001b[0;34m)\u001b[0m\u001b[0;34m\u001b[0m\u001b[0;34m\u001b[0m\u001b[0m\n\u001b[0m\u001b[1;32m      2\u001b[0m \u001b[0mdf_cm\u001b[0m \u001b[0;34m=\u001b[0m \u001b[0mpd\u001b[0m\u001b[0;34m.\u001b[0m\u001b[0mDataFrame\u001b[0m\u001b[0;34m(\u001b[0m\u001b[0mmetrics\u001b[0m\u001b[0;34m.\u001b[0m\u001b[0mconfusion_matrix\u001b[0m\u001b[0;34m(\u001b[0m\u001b[0mdata\u001b[0m\u001b[0;34m[\u001b[0m\u001b[0;34m\"test\"\u001b[0m\u001b[0;34m]\u001b[0m\u001b[0;34m[\u001b[0m\u001b[0;34m\"Y\"\u001b[0m\u001b[0;34m]\u001b[0m\u001b[0;34m,\u001b[0m \u001b[0mpredicted\u001b[0m\u001b[0;34m)\u001b[0m\u001b[0;34m)\u001b[0m\u001b[0;34m\u001b[0m\u001b[0;34m\u001b[0m\u001b[0m\n\u001b[1;32m      3\u001b[0m \u001b[0mplt\u001b[0m\u001b[0;34m.\u001b[0m\u001b[0mfigure\u001b[0m\u001b[0;34m(\u001b[0m\u001b[0mfigsize\u001b[0m \u001b[0;34m=\u001b[0m \u001b[0;34m(\u001b[0m\u001b[0;36m10\u001b[0m\u001b[0;34m,\u001b[0m\u001b[0;36m7\u001b[0m\u001b[0;34m)\u001b[0m\u001b[0;34m)\u001b[0m\u001b[0;34m\u001b[0m\u001b[0;34m\u001b[0m\u001b[0m\n\u001b[1;32m      4\u001b[0m \u001b[0msns\u001b[0m\u001b[0;34m.\u001b[0m\u001b[0mheatmap\u001b[0m\u001b[0;34m(\u001b[0m\u001b[0mdf_cm\u001b[0m\u001b[0;34m,\u001b[0m \u001b[0mannot\u001b[0m\u001b[0;34m=\u001b[0m\u001b[0;32mTrue\u001b[0m\u001b[0;34m,\u001b[0m \u001b[0mcmap\u001b[0m\u001b[0;34m=\u001b[0m\u001b[0;34m\"YlOrRd\"\u001b[0m\u001b[0;34m,\u001b[0m \u001b[0mfmt\u001b[0m\u001b[0;34m=\u001b[0m\u001b[0;34m\"d\"\u001b[0m\u001b[0;34m)\u001b[0m\u001b[0;34m\u001b[0m\u001b[0;34m\u001b[0m\u001b[0m\n\u001b[1;32m      5\u001b[0m \u001b[0mprint\u001b[0m\u001b[0;34m(\u001b[0m\u001b[0;34m\"Accuracy: %0.4f\"\u001b[0m \u001b[0;34m%\u001b[0m \u001b[0mmetrics\u001b[0m\u001b[0;34m.\u001b[0m\u001b[0maccuracy_score\u001b[0m\u001b[0;34m(\u001b[0m\u001b[0mdata\u001b[0m\u001b[0;34m[\u001b[0m\u001b[0;34m\"test\"\u001b[0m\u001b[0;34m]\u001b[0m\u001b[0;34m[\u001b[0m\u001b[0;34m\"Y\"\u001b[0m\u001b[0;34m]\u001b[0m\u001b[0;34m,\u001b[0m \u001b[0mpredicted\u001b[0m\u001b[0;34m)\u001b[0m\u001b[0;34m)\u001b[0m\u001b[0;34m\u001b[0m\u001b[0;34m\u001b[0m\u001b[0m\n",
            "\u001b[0;32m/usr/local/lib/python3.6/dist-packages/sklearn/utils/metaestimators.py\u001b[0m in \u001b[0;36m<lambda>\u001b[0;34m(*args, **kwargs)\u001b[0m\n\u001b[1;32m    114\u001b[0m \u001b[0;34m\u001b[0m\u001b[0m\n\u001b[1;32m    115\u001b[0m         \u001b[0;31m# lambda, but not partial, allows help() to work with update_wrapper\u001b[0m\u001b[0;34m\u001b[0m\u001b[0;34m\u001b[0m\u001b[0;34m\u001b[0m\u001b[0m\n\u001b[0;32m--> 116\u001b[0;31m         \u001b[0mout\u001b[0m \u001b[0;34m=\u001b[0m \u001b[0;32mlambda\u001b[0m \u001b[0;34m*\u001b[0m\u001b[0margs\u001b[0m\u001b[0;34m,\u001b[0m \u001b[0;34m**\u001b[0m\u001b[0mkwargs\u001b[0m\u001b[0;34m:\u001b[0m \u001b[0mself\u001b[0m\u001b[0;34m.\u001b[0m\u001b[0mfn\u001b[0m\u001b[0;34m(\u001b[0m\u001b[0mobj\u001b[0m\u001b[0;34m,\u001b[0m \u001b[0;34m*\u001b[0m\u001b[0margs\u001b[0m\u001b[0;34m,\u001b[0m \u001b[0;34m**\u001b[0m\u001b[0mkwargs\u001b[0m\u001b[0;34m)\u001b[0m\u001b[0;34m\u001b[0m\u001b[0;34m\u001b[0m\u001b[0m\n\u001b[0m\u001b[1;32m    117\u001b[0m         \u001b[0;31m# update the docstring of the returned function\u001b[0m\u001b[0;34m\u001b[0m\u001b[0;34m\u001b[0m\u001b[0;34m\u001b[0m\u001b[0m\n\u001b[1;32m    118\u001b[0m         \u001b[0mupdate_wrapper\u001b[0m\u001b[0;34m(\u001b[0m\u001b[0mout\u001b[0m\u001b[0;34m,\u001b[0m \u001b[0mself\u001b[0m\u001b[0;34m.\u001b[0m\u001b[0mfn\u001b[0m\u001b[0;34m)\u001b[0m\u001b[0;34m\u001b[0m\u001b[0;34m\u001b[0m\u001b[0m\n",
            "\u001b[0;32m/usr/local/lib/python3.6/dist-packages/sklearn/model_selection/_search.py\u001b[0m in \u001b[0;36mpredict\u001b[0;34m(self, X)\u001b[0m\n\u001b[1;32m    475\u001b[0m         \"\"\"\n\u001b[1;32m    476\u001b[0m         \u001b[0mself\u001b[0m\u001b[0;34m.\u001b[0m\u001b[0m_check_is_fitted\u001b[0m\u001b[0;34m(\u001b[0m\u001b[0;34m'predict'\u001b[0m\u001b[0;34m)\u001b[0m\u001b[0;34m\u001b[0m\u001b[0;34m\u001b[0m\u001b[0m\n\u001b[0;32m--> 477\u001b[0;31m         \u001b[0;32mreturn\u001b[0m \u001b[0mself\u001b[0m\u001b[0;34m.\u001b[0m\u001b[0mbest_estimator_\u001b[0m\u001b[0;34m.\u001b[0m\u001b[0mpredict\u001b[0m\u001b[0;34m(\u001b[0m\u001b[0mX\u001b[0m\u001b[0;34m)\u001b[0m\u001b[0;34m\u001b[0m\u001b[0;34m\u001b[0m\u001b[0m\n\u001b[0m\u001b[1;32m    478\u001b[0m \u001b[0;34m\u001b[0m\u001b[0m\n\u001b[1;32m    479\u001b[0m     \u001b[0;34m@\u001b[0m\u001b[0mif_delegate_has_method\u001b[0m\u001b[0;34m(\u001b[0m\u001b[0mdelegate\u001b[0m\u001b[0;34m=\u001b[0m\u001b[0;34m(\u001b[0m\u001b[0;34m'best_estimator_'\u001b[0m\u001b[0;34m,\u001b[0m \u001b[0;34m'estimator'\u001b[0m\u001b[0;34m)\u001b[0m\u001b[0;34m)\u001b[0m\u001b[0;34m\u001b[0m\u001b[0;34m\u001b[0m\u001b[0m\n",
            "\u001b[0;32m/usr/local/lib/python3.6/dist-packages/sklearn/svm/_base.py\u001b[0m in \u001b[0;36mpredict\u001b[0;34m(self, X)\u001b[0m\n\u001b[1;32m    592\u001b[0m             \u001b[0my\u001b[0m \u001b[0;34m=\u001b[0m \u001b[0mnp\u001b[0m\u001b[0;34m.\u001b[0m\u001b[0margmax\u001b[0m\u001b[0;34m(\u001b[0m\u001b[0mself\u001b[0m\u001b[0;34m.\u001b[0m\u001b[0mdecision_function\u001b[0m\u001b[0;34m(\u001b[0m\u001b[0mX\u001b[0m\u001b[0;34m)\u001b[0m\u001b[0;34m,\u001b[0m \u001b[0maxis\u001b[0m\u001b[0;34m=\u001b[0m\u001b[0;36m1\u001b[0m\u001b[0;34m)\u001b[0m\u001b[0;34m\u001b[0m\u001b[0;34m\u001b[0m\u001b[0m\n\u001b[1;32m    593\u001b[0m         \u001b[0;32melse\u001b[0m\u001b[0;34m:\u001b[0m\u001b[0;34m\u001b[0m\u001b[0;34m\u001b[0m\u001b[0m\n\u001b[0;32m--> 594\u001b[0;31m             \u001b[0my\u001b[0m \u001b[0;34m=\u001b[0m \u001b[0msuper\u001b[0m\u001b[0;34m(\u001b[0m\u001b[0;34m)\u001b[0m\u001b[0;34m.\u001b[0m\u001b[0mpredict\u001b[0m\u001b[0;34m(\u001b[0m\u001b[0mX\u001b[0m\u001b[0;34m)\u001b[0m\u001b[0;34m\u001b[0m\u001b[0;34m\u001b[0m\u001b[0m\n\u001b[0m\u001b[1;32m    595\u001b[0m         \u001b[0;32mreturn\u001b[0m \u001b[0mself\u001b[0m\u001b[0;34m.\u001b[0m\u001b[0mclasses_\u001b[0m\u001b[0;34m.\u001b[0m\u001b[0mtake\u001b[0m\u001b[0;34m(\u001b[0m\u001b[0mnp\u001b[0m\u001b[0;34m.\u001b[0m\u001b[0masarray\u001b[0m\u001b[0;34m(\u001b[0m\u001b[0my\u001b[0m\u001b[0;34m,\u001b[0m \u001b[0mdtype\u001b[0m\u001b[0;34m=\u001b[0m\u001b[0mnp\u001b[0m\u001b[0;34m.\u001b[0m\u001b[0mintp\u001b[0m\u001b[0;34m)\u001b[0m\u001b[0;34m)\u001b[0m\u001b[0;34m\u001b[0m\u001b[0;34m\u001b[0m\u001b[0m\n\u001b[1;32m    596\u001b[0m \u001b[0;34m\u001b[0m\u001b[0m\n",
            "\u001b[0;32m/usr/local/lib/python3.6/dist-packages/sklearn/svm/_base.py\u001b[0m in \u001b[0;36mpredict\u001b[0;34m(self, X)\u001b[0m\n\u001b[1;32m    315\u001b[0m         \u001b[0mX\u001b[0m \u001b[0;34m=\u001b[0m \u001b[0mself\u001b[0m\u001b[0;34m.\u001b[0m\u001b[0m_validate_for_predict\u001b[0m\u001b[0;34m(\u001b[0m\u001b[0mX\u001b[0m\u001b[0;34m)\u001b[0m\u001b[0;34m\u001b[0m\u001b[0;34m\u001b[0m\u001b[0m\n\u001b[1;32m    316\u001b[0m         \u001b[0mpredict\u001b[0m \u001b[0;34m=\u001b[0m \u001b[0mself\u001b[0m\u001b[0;34m.\u001b[0m\u001b[0m_sparse_predict\u001b[0m \u001b[0;32mif\u001b[0m \u001b[0mself\u001b[0m\u001b[0;34m.\u001b[0m\u001b[0m_sparse\u001b[0m \u001b[0;32melse\u001b[0m \u001b[0mself\u001b[0m\u001b[0;34m.\u001b[0m\u001b[0m_dense_predict\u001b[0m\u001b[0;34m\u001b[0m\u001b[0;34m\u001b[0m\u001b[0m\n\u001b[0;32m--> 317\u001b[0;31m         \u001b[0;32mreturn\u001b[0m \u001b[0mpredict\u001b[0m\u001b[0;34m(\u001b[0m\u001b[0mX\u001b[0m\u001b[0;34m)\u001b[0m\u001b[0;34m\u001b[0m\u001b[0;34m\u001b[0m\u001b[0m\n\u001b[0m\u001b[1;32m    318\u001b[0m \u001b[0;34m\u001b[0m\u001b[0m\n\u001b[1;32m    319\u001b[0m     \u001b[0;32mdef\u001b[0m \u001b[0m_dense_predict\u001b[0m\u001b[0;34m(\u001b[0m\u001b[0mself\u001b[0m\u001b[0;34m,\u001b[0m \u001b[0mX\u001b[0m\u001b[0;34m)\u001b[0m\u001b[0;34m:\u001b[0m\u001b[0;34m\u001b[0m\u001b[0;34m\u001b[0m\u001b[0m\n",
            "\u001b[0;32m/usr/local/lib/python3.6/dist-packages/sklearn/svm/_base.py\u001b[0m in \u001b[0;36m_dense_predict\u001b[0;34m(self, X)\u001b[0m\n\u001b[1;32m    335\u001b[0m             \u001b[0mX\u001b[0m\u001b[0;34m,\u001b[0m \u001b[0mself\u001b[0m\u001b[0;34m.\u001b[0m\u001b[0msupport_\u001b[0m\u001b[0;34m,\u001b[0m \u001b[0mself\u001b[0m\u001b[0;34m.\u001b[0m\u001b[0msupport_vectors_\u001b[0m\u001b[0;34m,\u001b[0m \u001b[0mself\u001b[0m\u001b[0;34m.\u001b[0m\u001b[0m_n_support\u001b[0m\u001b[0;34m,\u001b[0m\u001b[0;34m\u001b[0m\u001b[0;34m\u001b[0m\u001b[0m\n\u001b[1;32m    336\u001b[0m             \u001b[0mself\u001b[0m\u001b[0;34m.\u001b[0m\u001b[0m_dual_coef_\u001b[0m\u001b[0;34m,\u001b[0m \u001b[0mself\u001b[0m\u001b[0;34m.\u001b[0m\u001b[0m_intercept_\u001b[0m\u001b[0;34m,\u001b[0m\u001b[0;34m\u001b[0m\u001b[0;34m\u001b[0m\u001b[0m\n\u001b[0;32m--> 337\u001b[0;31m             \u001b[0mself\u001b[0m\u001b[0;34m.\u001b[0m\u001b[0mprobA_\u001b[0m\u001b[0;34m,\u001b[0m \u001b[0mself\u001b[0m\u001b[0;34m.\u001b[0m\u001b[0mprobB_\u001b[0m\u001b[0;34m,\u001b[0m \u001b[0msvm_type\u001b[0m\u001b[0;34m=\u001b[0m\u001b[0msvm_type\u001b[0m\u001b[0;34m,\u001b[0m \u001b[0mkernel\u001b[0m\u001b[0;34m=\u001b[0m\u001b[0mkernel\u001b[0m\u001b[0;34m,\u001b[0m\u001b[0;34m\u001b[0m\u001b[0;34m\u001b[0m\u001b[0m\n\u001b[0m\u001b[1;32m    338\u001b[0m             \u001b[0mdegree\u001b[0m\u001b[0;34m=\u001b[0m\u001b[0mself\u001b[0m\u001b[0;34m.\u001b[0m\u001b[0mdegree\u001b[0m\u001b[0;34m,\u001b[0m \u001b[0mcoef0\u001b[0m\u001b[0;34m=\u001b[0m\u001b[0mself\u001b[0m\u001b[0;34m.\u001b[0m\u001b[0mcoef0\u001b[0m\u001b[0;34m,\u001b[0m \u001b[0mgamma\u001b[0m\u001b[0;34m=\u001b[0m\u001b[0mself\u001b[0m\u001b[0;34m.\u001b[0m\u001b[0m_gamma\u001b[0m\u001b[0;34m,\u001b[0m\u001b[0;34m\u001b[0m\u001b[0;34m\u001b[0m\u001b[0m\n\u001b[1;32m    339\u001b[0m             cache_size=self.cache_size)\n",
            "\u001b[0;31mAttributeError\u001b[0m: 'SVC' object has no attribute 'probA_'"
          ]
        }
      ]
    },
    {
      "cell_type": "code",
      "metadata": {
        "id": "7UMrQ8GQwpzl",
        "tags": [],
        "outputId": "84847593-efb5-485f-e99e-009940aa705b",
        "colab": {
          "base_uri": "https://localhost:8080/",
          "height": 273
        }
      },
      "source": [
        "predicted = mnist_classifier.predict(data[\"test\"][\"X\"])\n",
        "print(\"Confusion matrix:\\n%s\" % metrics.confusion_matrix(data[\"test\"][\"Y\"], predicted))\n",
        "print(\"Accuracy: %0.4f\" % metrics.accuracy_score(data[\"test\"][\"Y\"], predicted))\n",
        "\n",
        "# try_id = 1\n",
        "#out = clf.predict(data[\"test\"][\"X\"][try_id])  # clf.predict_proba\n",
        "#print(\"out: %s\" % out)\n",
        "#size = int(len(data[\"test\"][\"X\"][try_id]) ** (0.5))\n",
        "#view_image(\n",
        "#    data[\"test\"][\"X\"][try_id].reshape((size, size)), data[\"test\"][\"y\"][try_id]\n",
        "#)'''"
      ],
      "execution_count": null,
      "outputs": [
        {
          "output_type": "stream",
          "text": [
            "Confusion matrix:\n",
            "[[2026    0    6    1    5    5    9    0    6    0]\n",
            " [   0 2346    4    4    1    0    1    3    2    3]\n",
            " [   5    8 2061    9    9    2   11   11   14    3]\n",
            " [   1    2   31 2100    1   14    0    6   11   10]\n",
            " [   1    7    5    1 1888    1    5    5    1   22]\n",
            " [   5    1    1   24    3 1855   15    1    9    1]\n",
            " [   5    0    7    2   16    3 2050    1    4    0]\n",
            " [   2    5   15    1   12    1    0 2189    0   23]\n",
            " [   5    7    9   19    7   12    8    7 1912    6]\n",
            " [   9    5    3   14   31    6    1   30   11 1980]]\n",
            "Accuracy: 0.9718\n"
          ],
          "name": "stdout"
        }
      ]
    },
    {
      "cell_type": "code",
      "metadata": {
        "id": "RLcxHvOVYmce",
        "outputId": "774ec9da-75ea-4170-c3ad-e6130c1bafcd",
        "colab": {
          "base_uri": "https://localhost:8080/",
          "height": 38
        }
      },
      "source": [
        "metrics.matthews_corrcoef(data[\"test\"][\"Y\"], predicted)\n"
      ],
      "execution_count": null,
      "outputs": [
        {
          "output_type": "execute_result",
          "data": {
            "text/plain": [
              "0.9831155769891349"
            ]
          },
          "metadata": {
            "tags": []
          },
          "execution_count": 50
        }
      ]
    },
    {
      "cell_type": "code",
      "metadata": {
        "id": "PSuq82kBbQMZ",
        "tags": [],
        "outputId": "fe5c8b01-5fc3-4204-cc1f-f44b771e1d73",
        "colab": {
          "base_uri": "https://localhost:8080/",
          "height": 380
        }
      },
      "source": [
        "print(metrics.classification_report(data[\"test\"][\"Y\"], predicted))"
      ],
      "execution_count": null,
      "outputs": [
        {
          "output_type": "stream",
          "text": [
            "              precision    recall  f1-score   support\n",
            "\n",
            "           0       0.99      0.99      0.99      2058\n",
            "           1       0.99      0.99      0.99      2364\n",
            "           2       0.98      0.98      0.98      2133\n",
            "           3       0.98      0.98      0.98      2176\n",
            "           4       0.98      0.98      0.98      1936\n",
            "           5       0.99      0.99      0.99      1915\n",
            "           6       0.99      0.99      0.99      2088\n",
            "           7       0.99      0.99      0.99      2248\n",
            "           8       0.98      0.98      0.98      1992\n",
            "           9       0.98      0.97      0.97      2090\n",
            "\n",
            "    accuracy                           0.98     21000\n",
            "   macro avg       0.98      0.98      0.98     21000\n",
            "weighted avg       0.98      0.98      0.98     21000\n",
            "\n"
          ],
          "name": "stdout"
        }
      ]
    },
    {
      "cell_type": "markdown",
      "metadata": {
        "id": "79ykHczvXdsl"
      },
      "source": [
        "| Kernel| C | Gamma | Accuracy | MCC |\n",
        "|---|---|---|---|---|\n",
        "|RBF| 50 | 0.001 | 0.9718 | 0.9826\n",
        "|RBF| 10 | 0.01 | 0.9844 | 0.9826\n",
        "|RBF| 50 | 0.01 | 0.9851 | 0.9826\n",
        "|RBF| 75 | 0.01 | 0.9848 | 0.9831\n",
        "|RBF| 100 | 0.01 | 0.9849 | 0.9831\n"
      ]
    },
    {
      "cell_type": "code",
      "metadata": {
        "id": "HSHQSTn6cFfJ"
      },
      "source": [
        "#poly_parameters = {'kernel':['poly'], 'degree':[8,9], 'C':C_range, 'gamma': gamma_range}\n",
        "#poly_grid_clf = GridSearchCV(estimator=svm_clf,param_grid=poly_parameters, n_jobs=7, verbose=2)\n",
        "#poly_grid_clf.fit(data[\"train\"][\"X\"][:1000], data[\"train\"][\"Y\"][:1000])\n"
      ],
      "execution_count": null,
      "outputs": []
    },
    {
      "cell_type": "code",
      "metadata": {
        "id": "nico5_qJihai"
      },
      "source": [
        "#poly_predicted = poly_grid_clf.predict(data[\"test\"][\"X\"])\n",
        "#df_cm = pd.DataFrame(metrics.confusion_matrix(data[\"test\"][\"Y\"], poly_predicted))\n",
        "#plt.figure(figsize = (10,7))\n",
        "#sns.heatmap(df_cm, annot=True, cmap=\"YlOrRd\", fmt=\"d\")\n",
        "#print(\"Accuracy: %0.4f\" % metrics.accuracy_score(data[\"test\"][\"Y\"], poly_predicted))"
      ],
      "execution_count": null,
      "outputs": []
    },
    {
      "cell_type": "code",
      "metadata": {
        "id": "kj_mkMokj112"
      },
      "source": [
        "#print(poly_grid_clf.best_params_)"
      ],
      "execution_count": null,
      "outputs": []
    }
  ]
}